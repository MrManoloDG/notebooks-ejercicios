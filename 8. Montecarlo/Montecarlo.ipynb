{
 "cells": [
  {
   "cell_type": "markdown",
   "metadata": {},
   "source": [
    "# Ejercicio: Aplicaciones del método de Montecarlo\n",
    "**Autor**: José A. Troyano.   **Revisor**: Fermín Cruz. **Última modificación**: 11/01/2018"
   ]
  },
  {
   "cell_type": "markdown",
   "metadata": {},
   "source": [
    "El método de Montecarlo es una técnica estadística que se usa para aproximar funciones matemáticas complejas o computacionalmente muy costosas. Se basa en un muestreo aleatorio del espacio de puntos de la función a evaluar. Precisamente esta utilización de números aleatorios es la razón de su nombre, ya que cuando se empezó a usar el método (años 40) Montecarlo era “la capital del juego de azar”. \n",
    "\n",
    "Una de las aplicaciones más interesantes actualmente del método de Montecarlo es la exploración aleatoria de espacios de búsqueda en sistemas de Inteligencia Artifical, que ayuda a construir gradualmente heurísticas y estructuras de decisión de forma automática. Salvando las distancias, esta forma de muestrear espacios de búsqueda en tareas complejas para sistemas de IA se puede acercar un poco a la intuición humana.  \n",
    "\n",
    "En este notebook vamos a usar el método de Montecarlo para buscar una solución aproximada a dos problemas:\n",
    "- Estimación del valor del número $\\pi$\n",
    "- Estimación de la fuerza de una jugada de póker\n",
    "\n",
    "Ninguno de los dos problemas es especialmente costoso desde el punto de vista computacional, pero sus soluciones a través del método de Montecarlo ilustran muy bien las posibilidades de esta técnica. Además, nos permitirán usar muchos elementos del lenguaje Python que, a fin de cuentas, es lo que más nos interesa."
   ]
  },
  {
   "cell_type": "markdown",
   "metadata": {},
   "source": [
    "## 1. Estimación del número $\\pi$"
   ]
  },
  {
   "cell_type": "markdown",
   "metadata": {},
   "source": [
    "La letra $\\pi$ proviene de la inicial de la palabra griega περιφέρεια que significa 'periferia' y desde mediados del siglo XVIII se generalizó su uso como nombre para la constante que relaciona el diámetro de una circunferencia con su perímetro. Las primeras fórmulas para aproximar su valor son del antiguo Egipto, hace casi 4.000 años. Una de las más famosas de la antigüedad fue la de Arquímedes:\n",
    "$$\n",
    "3+10/71 <\\pi < 3+1/7\n",
    "$$\n",
    "Desde entonces multitud de científicos han contribuido con aproximaciones cada vez más precisas. En la actualidad el reto es calcular el mayor núemro de cifras decimales de $\\pi$, que ya anda por los $10^{13}$.\n",
    "\n",
    "En este ejercicio vamos a usar el método de Montecarlo para estimar de forma simple el número $\\pi$. El procedimiento será el siguiente:\n",
    "- Generar una secuencia de puntos desde el $(-1,-1)$ al $(1,1)$, es decir puntos dentro de un cuadrado de lado $2$ y centrado en el punto $(0,0)$\n",
    "- Determinar qué proporción de esos puntos caen dentro de un círculo de radio $1$ y centrado también en $(0,0)$\n",
    "- Como el área del círculo es $\\pi r^2$ (que para $r=1$ es simplemente $\\pi$) y la del cuadrado $4$, el número $\\pi$ se puede estimar con la siguiente expresión:\n",
    "$$\n",
    "\\pi = 4 * proporción \\: de \\: puntos \\: dentro \\: del \\: círculo\n",
    "$$"
   ]
  },
  {
   "cell_type": "markdown",
   "metadata": {
    "collapsed": true
   },
   "source": [
    "### 1.1. Módulos utilizados"
   ]
  },
  {
   "cell_type": "markdown",
   "metadata": {},
   "source": [
    "Para la resolución de este ejercicio utilizaremos tres módulos de la librería estándar de Python:\n",
    "- random: para la generación de números aleatorios\n",
    "- math: para la función sqrt necesaria para calcular la distancia euclidea entre dos puntos\n",
    "- matplotlib: para la visualización de los puntos generados"
   ]
  },
  {
   "cell_type": "code",
   "execution_count": null,
   "metadata": {
    "collapsed": true
   },
   "outputs": [],
   "source": [
    "import random\n",
    "import math\n",
    "from matplotlib import pyplot as plt"
   ]
  },
  {
   "cell_type": "markdown",
   "metadata": {},
   "source": [
    "### 1.2. Generación de una secuencia de números aleatorios"
   ]
  },
  {
   "cell_type": "markdown",
   "metadata": {},
   "source": [
    "La siguiente función será la encargada de producir la secuencia aleatoria de puntos necesaria para la aplicación del método de Montecarlo:"
   ]
  },
  {
   "cell_type": "code",
   "execution_count": null,
   "metadata": {
    "collapsed": true
   },
   "outputs": [],
   "source": [
    "def genera_puntos_aleatorios(cantidad=1000):\n",
    "    '''Genera una lista aleatoria de puntos (x,y) entre\n",
    "    los puntos (-1,-1) y (1,1)'''\n",
    "    pass"
   ]
  },
  {
   "cell_type": "code",
   "execution_count": null,
   "metadata": {},
   "outputs": [],
   "source": [
    "# Test de la función genera_puntos_aleatorios\n",
    "puntos = genera_puntos_aleatorios(10)\n",
    "print(puntos)"
   ]
  },
  {
   "cell_type": "markdown",
   "metadata": {},
   "source": [
    "### 1.3. Estimación de $\\pi$"
   ]
  },
  {
   "cell_type": "markdown",
   "metadata": {},
   "source": [
    "Organizaremos la implementación de esta parte en dos funciones:\n",
    "- Cálculo de la distancia euclídea de dos puntos\n",
    "- Cálculo de $\\pi$ a partir de una serie de puntos"
   ]
  },
  {
   "cell_type": "code",
   "execution_count": null,
   "metadata": {
    "collapsed": true
   },
   "outputs": [],
   "source": [
    "def distancia_euclidea(p1, p2):\n",
    "    '''Calcula la distancia euclide entre dos puntos'''\n",
    "    pass"
   ]
  },
  {
   "cell_type": "code",
   "execution_count": null,
   "metadata": {},
   "outputs": [],
   "source": [
    "# Tests de la función distancia_euclidea\n",
    "print(distancia_euclidea((0, 0), (1, 0)))\n",
    "print(distancia_euclidea((0, 0), (1, 1)))\n",
    "print(distancia_euclidea((0, 0), (-1, -1)))\n",
    "print(distancia_euclidea((-1, -1), (1, 1)))"
   ]
  },
  {
   "cell_type": "code",
   "execution_count": null,
   "metadata": {
    "collapsed": true
   },
   "outputs": [],
   "source": [
    "def calcula_pi(puntos):\n",
    "    '''Estima el valor de pi mediante la proporción de puntos\n",
    "    que están a una distancia menor de 1 del (0,0)\n",
    "\n",
    "    El área de un círculo de radio 1 es pi, que coincide con la\n",
    "    siguiente estimación:\n",
    "            4 * ratio_puntos_dentro\n",
    "    Donde:\n",
    "        4 es el área del cuadrado de lado 2 que circusncribe al círculo\n",
    "        ratio_puntos_dentro: es el porcentaje de puntos generados de\n",
    "            forma aleatoria que están a una distancia menor de uno\n",
    "            del centro del círculo (0,0)\n",
    "    '''\n",
    "    pass"
   ]
  },
  {
   "cell_type": "code",
   "execution_count": null,
   "metadata": {},
   "outputs": [],
   "source": [
    "# Test de la función calcula_pi\n",
    "puntos = genera_puntos_aleatorios(1000)\n",
    "pi = calcula_pi(puntos)\n",
    "print(pi)"
   ]
  },
  {
   "cell_type": "markdown",
   "metadata": {},
   "source": [
    "### 1.4. Visualización"
   ]
  },
  {
   "cell_type": "markdown",
   "metadata": {},
   "source": [
    "Con la ayuda de la biblioteca matplotlib podremos mostrar cómo se distingue el área del círculo si se dibujan con colores distintos los puntos que están dentro y fuera de él."
   ]
  },
  {
   "cell_type": "code",
   "execution_count": null,
   "metadata": {
    "collapsed": true
   },
   "outputs": [],
   "source": [
    "def muestra_puntos(puntos):\n",
    "    '''Muestra los puntos de distinto color según estén dentro,\n",
    "    o fuera, de una circunferencia de radio 1 y centro (0,0)\n",
    "    \n",
    "    A partir de la lista de puntos construiremos dos listas de\n",
    "    puntos llamadas dentro y fuera que contengan, respectivamente,\n",
    "    los puntos que están a distancia menor o igual de 1 del centro y\n",
    "    los que están a una distancia mayor.\n",
    "    A partir de esas dos listas, obtendremos cuatro nuevas listas\n",
    "    x_dentro, y_dentro, x_fuera e y_fuera con los valores de los\n",
    "    puntos separados por ejes.\n",
    "    Generaremos la visualización con las siguientes llamadas a funciones\n",
    "    de matplotlib:\n",
    "            plt.figure(figsize=(5,5))\n",
    "            plt.scatter(x_dentro, y_dentro, s=0.5, color='blue')\n",
    "            plt.scatter(x_fuera, y_fuera, s=0.5, color='red')\n",
    "            plt.show()\n",
    "    '''\n",
    "    pass"
   ]
  },
  {
   "cell_type": "code",
   "execution_count": null,
   "metadata": {},
   "outputs": [],
   "source": [
    "# Test de la función calcula_pi\n",
    "puntos = genera_puntos_aleatorios(100)\n",
    "muestra_circulo(puntos)"
   ]
  },
  {
   "cell_type": "markdown",
   "metadata": {
    "collapsed": true
   },
   "source": [
    "## 2. Fuerza de una jugada de póker"
   ]
  },
  {
   "cell_type": "markdown",
   "metadata": {},
   "source": [
    "En este ejercicio usaremos el método de Montecarlo para estimar la probabilidad de victoria de una determinada mano de póker.\n",
    "El póker es un juego de cartas de apuestas, en el que el jugador que tiene la mejor combinación de cartas gana toda la cantidad aspostada en una mano. Tiene elementos de muchos juegos antiguos pero su expansión, con reglas parecidas a las que se usan hoy en día, tuvo lugar desde Nueva Orleans en el siglo XIX. Se juega con la denominada baraja inglesa que tiene trece cartas de cuatro palos distintos. Las treces cartas ordenadas de menor a mayor según su valor son:\n",
    "\n",
    "    ['2','3','4','5','6','7','8','9','10','J','Q','K','A']\n",
    "\n",
    "No hay diferencia de valor entre los cuatro palos:\n",
    "\n",
    "|  Símbolo  | Nombre         |\n",
    "|:------:|:-----------------|\n",
    "|   ♣  | Tréboles (_clubs_)|\n",
    "|   ♥  | Corazones (_hearts_)|\n",
    "|   ♠  | Picas (_spades_)|\n",
    "|   ♦  | Diamantes (_diamonds_)\"|\n",
    "\n",
    "El póker se basa en un _ranking_ bastante heterogéneo de jugadas. En la siguiente tabla se muestran las jugadas con las que trabajaremos en este ejercicio, junto con sus descripciones y la probabilidad de cada combinación. Consideraremos una baraja de 52 cartas sin comodines, por lo que la jugada del _repóker_ no será posible:\n",
    "\n",
    "\n",
    "\n",
    "|  Jugada  | Descripción                      |Probabilidad|\n",
    "|:--------|:---------------------------------|------------:|\n",
    "|  Escalera real o flor imperial  (<i>Royal flush</i>)| Cinco cartas seguidas del mismo palo del 10 al as|4 de 2.598.960 (1,539·10<sup>-4</sup> %) |\n",
    "|  Escalera de color (<i>Straight flush</i>)| Cinco cartas consecutivas del mismo palo|36 de de 2.598.960 (1,385·10<sup>-3</sup> %) |\n",
    "| Póker (<i>Four of a kind</i> o <i> Quad</i>|Cuatro cartas iguales en su valor | 624 de 2.598.960 (2,4·10<sup>-2</sup> %)|\n",
    "| Full (<i>Full house</i>)|Tres cartas iguales en su valor (tercia), más otras dos iguales en su valor (pareja) | 3.744 de 2.598.960 (0,144 %)|\n",
    "|Color (<i>Flush</i>) |Cinco cartas del mismo palo, sin ser necesariamente consecutivas | 5.108 de 2.598.960 (0,196 %)|\n",
    "|Escalera (<i>Straight</i>) |Cinco cartas consecutivas sin importar el palo | 10.200 de 2.598.960 (0,392 %)|\n",
    "|Trío (<i>Three of a kind</i> o <i>Set</i>)| Tres cartas iguales de valor| 54.912 de 2.598.960 (2,111 %)|\n",
    "| Doble pareja (<i>Two pair</i> o <i>Pocket</i>)| Dos pares de cartas del mismo valor (par y par)| 123.552 de 2.598.960 (4,759 %)|\n",
    "| Pareja (<i>One pair</i>)| Dos cartas del mismo valor (y tres diferentes)| 1.098.240 de 2.598.960 (42,257 %)|\n",
    "| Carta alta (<i>High card</i>)| Gana quien tiene la carta más alta de todas, en caso de empate se continúa la compararción con las siguientes cartas en valor| 1.302.540 de 2.598.960 (50,117 %)|\n"
   ]
  },
  {
   "cell_type": "markdown",
   "metadata": {
    "collapsed": true
   },
   "source": [
    "### 2.1. Representación de cartas y manos"
   ]
  },
  {
   "cell_type": "markdown",
   "metadata": {},
   "source": [
    "Cada mano de póker está compuesta por cinco cartas, y cada carta se caracteriza por dos informaciones: valor y palo. La manera más natural, por tanto, de representrar una mano de póker es mediante listas (las cinco cartas) de tuplas (la combinación de valor y palo).\n",
    "\n",
    "En el caso de los palos utilizaremos las iniciales, en mayúsculas, de sus nombres en inglés para representarlos:\n",
    "\n",
    "|  Símbolo  | Carácter         |\n",
    "|:------:|:----------:|\n",
    "|   ♣  | 'C'|\n",
    "|   ♥  | 'H'|\n",
    "|   ♠  | 'S'|\n",
    "|   ♦  | 'D'|\n",
    "\n",
    "Para los valores, utilizaremos también una representación basada en caracteres. Como veremos más adelante, esta representación nos servirá para codificar y comparar jugadas de forma sencilla. En el siguiente diccionario se muestra la relación entre cada valor y la letra que lo representa:"
   ]
  },
  {
   "cell_type": "code",
   "execution_count": null,
   "metadata": {
    "collapsed": true
   },
   "outputs": [],
   "source": [
    "valores_cartas = {'A': 'a', 'K': 'b', 'Q': 'c', 'J': 'd',\n",
    "                  '10': 'e', '9': 'f', '8': 'g', '7': 'h',\n",
    "                  '6': 'i', '5': 'j', '4': 'k', '3': 'l', '2': 'm'}"
   ]
  },
  {
   "cell_type": "markdown",
   "metadata": {},
   "source": [
    "Además de la representación basada en listas de tuplas, trabajaremos también con dos representaciones textuales que nos ayudarán a especificar y visualizar jugadas, respectivamente. Denominaremos a estas dos representaciones 'cadena' y 'simbolo'."
   ]
  },
  {
   "cell_type": "code",
   "execution_count": null,
   "metadata": {},
   "outputs": [],
   "source": [
    "# Representación 'cadena':\n",
    "#   - Cada carta se representa con su valor y la letra asociada a su palo\n",
    "#   - La jugada se representa mediante una secuencia de cartas separadas por '-'\n",
    "poker_ases_rey_cad = \"AD-KC-AH-AS-AC\"\n",
    "\n",
    "# Representación 'simbolo':\n",
    "#   - Igual que las cadenas pero sustituyendo el carácter del palo por su símbolo\n",
    "poker_ases_rey_simb = \"A♦-K♣-A♥-A♠-A♣\"\n",
    "\n",
    "# Representación 'tuplas':\n",
    "#   - Lista de parejas (valor, palo)\n",
    "poker_ases_rey_tup = [('a', 'D'), ('b', 'C'), ('a', 'H'), ('a', 'S'), ('a', 'C')]"
   ]
  },
  {
   "cell_type": "markdown",
   "metadata": {},
   "source": [
    "La representación 'cadena' nos servirá principalmente como método de entrada textual, y la representación 'tuplas' será la que utilizaremos para procesar las jugadas. Con las siguientes dos funciones podremos pasar de una a otra representación:"
   ]
  },
  {
   "cell_type": "code",
   "execution_count": null,
   "metadata": {
    "collapsed": true
   },
   "outputs": [],
   "source": [
    "def cadena2tuplas(cadena):\n",
    "    '''Convierte una mano del formato cadena al formato tuplas\n",
    "\n",
    "    Toma una entrada del tipo \"Ac-Ad-Ah-As-Kc\" y genera una\n",
    "    lista de tuplas (valor, palo). El palo es el mismo carácter\n",
    "    que aparece en la cadena de entrada y el valor se calcula\n",
    "    a partir del siguiente diccionario de valores:\n",
    "\n",
    "        valores_cartas = {'A': 'a', 'K': 'b', 'Q': 'c', 'J': 'd',\n",
    "                          '10': 'e', '9': 'f', '8': 'g', '7': 'h',\n",
    "                          '6': 'i', '5': 'j', '4': 'k', '3': 'l', '2': 'm'}\n",
    "    '''\n",
    "    pass\n",
    "\n",
    "\n",
    "def tuplas2cadena(tuplas):\n",
    "    ''' Convierte una mano del formato tuplas al formato cadena\n",
    "\n",
    "    Toma una mano en formato lista de tuplas y produce como salida\n",
    "    una cadena del estilo \"Ac-Ad-Ah-As-Kc\".\n",
    "    Se usa el mismo diccionario de valores pero para rescatar\n",
    "    la relación inversa:\n",
    "\n",
    "        valores_cartas = {'A': 'a', 'K': 'b', 'Q': 'c', 'J': 'd',\n",
    "                          '10': 'e', '9': 'f', '8': 'g', '7': 'h',\n",
    "                          '6': 'i', '5': 'j', '4': 'k', '3': 'l', '2': 'm'}\n",
    "    '''\n",
    "    pass"
   ]
  },
  {
   "cell_type": "code",
   "execution_count": null,
   "metadata": {},
   "outputs": [],
   "source": [
    "# Tests de funciones para conectar las representaciones 'cadena' y 'tuplas'\n",
    "tuplas = cadena2tuplas(poker_ases_rey_cad)\n",
    "print(tuplas)\n",
    "cadena = tuplas2cadena(tuplas)\n",
    "print(cadena)"
   ]
  },
  {
   "cell_type": "markdown",
   "metadata": {},
   "source": [
    "La representación 'simbolo', por su parte, nos servirá para generar salidas más legibles. Con las siguientes dos funciones podremos generar esta representación a partir de las otras dos representaciones que manejamos:"
   ]
  },
  {
   "cell_type": "code",
   "execution_count": null,
   "metadata": {
    "collapsed": true
   },
   "outputs": [],
   "source": [
    "def cadena2simbolo(cadena):\n",
    "    '''Convierte una mano del formato cadena al formato simbolo\n",
    "\n",
    "    Genera una cadena de caracteres usando el siguiente diccionario\n",
    "    para codificar los palos:\n",
    "\n",
    "        simbolos_palos = {'C': '♣', 'H': '♥', 'S': '♠', 'D': '♦'}\n",
    "    '''\n",
    "    pass\n",
    "\n",
    "\n",
    "def tuplas2simbolo(tuplas):\n",
    "    '''Convierte una mano del formato tuplas al formato simbolo\n",
    "\n",
    "    Hace uso de las funciones tuplas2cadena y cadena2simbolo\n",
    "    '''\n",
    "    pass"
   ]
  },
  {
   "cell_type": "code",
   "execution_count": null,
   "metadata": {},
   "outputs": [],
   "source": [
    "# Tests de funciones de generación de la representación 'simbolo'\n",
    "simbolos = cadena2simbolo(cadena)\n",
    "print(simbolos)\n",
    "simbolos = tuplas2simbolo(tuplas)\n",
    "print(simbolos)"
   ]
  },
  {
   "cell_type": "markdown",
   "metadata": {},
   "source": [
    "Para cerrar este apartado de representación de jugadas, vamos a implementar una función de ordenación que ordenará las cartas de una mano de póker (en el formato lista de tuplas) de mayor a menor valor:"
   ]
  },
  {
   "cell_type": "code",
   "execution_count": null,
   "metadata": {
    "collapsed": true
   },
   "outputs": [],
   "source": [
    "def ordena_mano(tuplas):\n",
    "    ''' Ordena una mano de mayor a menor valor de cartas\n",
    "\n",
    "    Se ordenan las tuplas por su primer componente (el valor)\n",
    "    '''\n",
    "    pass"
   ]
  },
  {
   "cell_type": "code",
   "execution_count": null,
   "metadata": {},
   "outputs": [],
   "source": [
    "# Test de la función de ordenación    \n",
    "tuplas_ordenadas = ordena_mano(tuplas)\n",
    "print(tuplas_ordenadas)"
   ]
  },
  {
   "cell_type": "markdown",
   "metadata": {},
   "source": [
    "### 2.2. Identificación y codificación de jugadas"
   ]
  },
  {
   "cell_type": "markdown",
   "metadata": {
    "collapsed": true
   },
   "source": [
    "Para poder compatrar dos manos de póker necesitamos, en primer lugar, identificar de qué jugadas se tratan. Es decir, dada una combinación de cartas debemos ser capaces de determinar si se corresponde con un póker, full, escalera, o cualquiera de las jugadas permitidas en el juego del póker. Para ello implementaremos una serie de funciones de identificación de jugadas:\n",
    "- <code>es_poker(tuplas)</code>\n",
    "- <code>es_full(tuplas)</code>\n",
    "- <code>es_escalera(tuplas)</code>\n",
    "- ...\n",
    "\n",
    "Estas funciones nos servirán para determinar cuál de dos manos es mejor siempre que se traten de distintos tipos de jugadas, por ejemplo una póker frente a un full. Pero también tendremos que tener en cuenta los casos en los que las dos manos que comparemos sean del mismo tipo, por ejemplo póker de ases frente a póker de reinas. Para ello vamos a definir una codificación para las manos que nos va a permitir realizar las comparaciones de forma muy directa.\n",
    "\n",
    "La codificación que usaremos convertirá cada mano de póker en una cadena de caracteres con la siguiente estructura:\n",
    "- El primer carácter determinará el tipo de jugada\n",
    "- Los siguientes caracteres aportarán información adicional que será utilizada en los casos en los que las dos manos que comparemos sean del mismo tipo de jugada\n",
    "\n",
    "La siguiente tabla muestra los caracteres asociados a cada tipo de jugada, que serán los que iniciarán las cadenas de codificación:\n",
    "\n",
    "\n",
    "|  Jugada  | Carácter |                \n",
    "|:--------|:------:|\n",
    "|  Escalera real | 'a'|\n",
    "|  Escalera de color | 'b' |\n",
    "| Póker |'c'|\n",
    "| Full | 'd' |\n",
    "|Color | 'e' |\n",
    "|Escalera|'f'|\n",
    "|Trío| 'g'|\n",
    "| Doble pareja|'h'|\n",
    "| Pareja |'i'|\n",
    "| Carta alta|'j'|\n",
    "\n",
    "Los caracteres del código siguientes al primer carácter se corresponderán con las cartas que formen la mano. Para cada tipo de jugada habrá que _recordar_ distintos números de cartas. Por ejemplo para un póker solo hay que _recordar_ dos cartas (la que se repite cuatro veces y la que queda suelta), mientras que para una doble pareja hay que _recordar_ tres (las de las dos parejas y la que queda suelta). He aquí unos cuantos ejemplos de manos y sus codificaciones:\n",
    "\n",
    "    10C-KC-QC-JC-AC  =>   a\n",
    "    10C-KC-QC-JC-9C  =>   bb\n",
    "    KC-KH-KS-KD-AC   =>   cba\n",
    "    KC-KH-KS-AD-AC   =>   dba\n",
    "    AC-KC-QC-JC-9C   =>   ea\n",
    "    9H-KC-QC-JC-10C  =>   fb\n",
    "    KC-KH-KS-AD-QC   =>   gbac\n",
    "    KC-KH-JS-AD-AC   =>   habd\n",
    "    KC-KH-JS-AD-2C   =>   ibadm\n",
    "    KC-JH-9S-4D-2C   =>   jbdfkm\n",
    "    \n",
    "El resto de esta sección se dedicará a implementar una función de identificación por cada una de las jugadas de póker, mas una última función que las llamará en orden para decidir cuál es la jugada que corresponde a una determinada combinación de cartas. Cada función de identificación recibirá una mano en formato 'tuplas' y devolverá dos valores:\n",
    "- Un valor lógico que nos indique si la mano es una jugada del tipo que identifica la función\n",
    "- Una cadena con el código asociado a la mano de entrada"
   ]
  },
  {
   "cell_type": "code",
   "execution_count": null,
   "metadata": {
    "collapsed": true
   },
   "outputs": [],
   "source": [
    "def es_color(tuplas):\n",
    "    '''Comprueba si una mano es color y devuelve su código alfabético\n",
    "\n",
    "    Cinco cartas del mismo color y palo, sin ser necesariamente\n",
    "    consecutivas.\n",
    "    5.108 de 2.598.960 (0,1965%)\n",
    "    CÓDIGO: 'e' + letras de las cartas de mayor a menor\n",
    "    '''\n",
    "    pass"
   ]
  },
  {
   "cell_type": "code",
   "execution_count": null,
   "metadata": {},
   "outputs": [],
   "source": [
    "# Tests de la función es_color\n",
    "print(es_color(cadena2tuplas(\"AC-KC-QC-JC-10C\")))\n",
    "print(es_color(cadena2tuplas(\"AH-KC-QC-JC-10C\")))"
   ]
  },
  {
   "cell_type": "code",
   "execution_count": null,
   "metadata": {
    "collapsed": true
   },
   "outputs": [],
   "source": [
    "def es_escalera(tuplas):\n",
    "    '''Comprueba si una mano es escalera y devuelve su código alfabético\n",
    "\n",
    "    Escalera (Straight)\n",
    "    Cinco cartas consecutivas sin importar el palo.\n",
    "    10.200 de 2.598.960 (0.3924%)\n",
    "    CÓDIGO: 'f' + letra de la carta más alta\n",
    "    '''\n",
    "    pass"
   ]
  },
  {
   "cell_type": "code",
   "execution_count": null,
   "metadata": {},
   "outputs": [],
   "source": [
    "# Tests de la función es_escalera\n",
    "print(es_escalera(cadena2tuplas(\"9H-KC-QC-JC-10C\")))\n",
    "print(es_escalera(cadena2tuplas(\"8H-KC-QC-JC-10C\")))"
   ]
  },
  {
   "cell_type": "code",
   "execution_count": null,
   "metadata": {
    "collapsed": true
   },
   "outputs": [],
   "source": [
    "def es_escalera_color(tuplas):\n",
    "    '''Comprueba si una mano es straight_flush y devuelve su código alfabético\n",
    "\n",
    "    Escalera de color (Straight flush)\n",
    "    Cinco cartas consecutivas del mismo palo.\n",
    "    36 de 2.598.960 (1,385·10^-3%)\n",
    "    LETRA: 'b'\n",
    "    CÓDIGO: 'b' + letra de la carta más alta\n",
    "    '''\n",
    "    pass"
   ]
  },
  {
   "cell_type": "code",
   "execution_count": null,
   "metadata": {},
   "outputs": [],
   "source": [
    "# Tests de la función es_escalera_color\n",
    "print(es_escalera_color(cadena2tuplas(\"10C-KC-QC-JC-9C\")))\n",
    "print(es_escalera_color(cadena2tuplas(\"10C-KC-QC-JC-9H\")))\n",
    "print(es_escalera_color(cadena2tuplas(\"AC-KC-QC-JC-9C\")))"
   ]
  },
  {
   "cell_type": "code",
   "execution_count": null,
   "metadata": {
    "collapsed": true
   },
   "outputs": [],
   "source": [
    "def es_escalera_real(tuplas):\n",
    "    '''Comprueba si una mano es royal_flush y devuelve su código alfabético\n",
    "\n",
    "    Escalera real o flor imperial (Royal flush)\n",
    "    Cinco cartas seguidas del mismo palo del 10 al as.\n",
    "    4 de 2.598.960 (1,539·10^-4%)\n",
    "    CÓDIGO: 'a'\n",
    "    '''\n",
    "    pass"
   ]
  },
  {
   "cell_type": "code",
   "execution_count": null,
   "metadata": {},
   "outputs": [],
   "source": [
    "# Tests de la función es_escalera_real\n",
    "print(es_escalera_real(cadena2tuplas(\"10C-KC-QC-JC-AC\")))\n",
    "print(es_escalera_real(cadena2tuplas(\"AC-KC-QC-JC-9C\")))\n",
    "print(es_escalera_real(cadena2tuplas(\"AH-KC-QC-JC-10C\")))"
   ]
  },
  {
   "cell_type": "code",
   "execution_count": null,
   "metadata": {
    "collapsed": true
   },
   "outputs": [],
   "source": [
    "def es_poker(tuplas):\n",
    "    '''Comprueba si una mano es poker y devuelve su código alfabético\n",
    "\n",
    "    Poker (Four of a kind o Quad)\n",
    "    Cuatro cartas iguales en su valor.\n",
    "    624 de 2.598.960 (2.4·10^-2%)\n",
    "    CÓDIGO: 'c' + letra de la carta de poker + letra de la carta suelta\n",
    "    '''\n",
    "    pass"
   ]
  },
  {
   "cell_type": "code",
   "execution_count": null,
   "metadata": {},
   "outputs": [],
   "source": [
    "# Tests de la función es_poker\n",
    "print(es_poker(cadena2tuplas(\"KC-KH-KS-KD-AC\")))\n",
    "print(es_poker(cadena2tuplas(\"KC-KH-KS-AD-AC\")))"
   ]
  },
  {
   "cell_type": "code",
   "execution_count": null,
   "metadata": {
    "collapsed": true
   },
   "outputs": [],
   "source": [
    "def es_full(tuplas):\n",
    "    '''Comprueba si una mano es full y devuelve su código alfabético\n",
    "\n",
    "    Full (Full House)\n",
    "    Tres cartas iguales en su valor (tercia), más otras dos iguales en\n",
    "    su valor (pareja).\n",
    "    3.744 de 2.598.960 (0,1440576%)\n",
    "    CÓDIGO: 'd' + letra de la carta de trío + letra de la carta de pareja\n",
    "    '''\n",
    "    pass"
   ]
  },
  {
   "cell_type": "code",
   "execution_count": null,
   "metadata": {},
   "outputs": [],
   "source": [
    "# Tests de la función es_full\n",
    "print(es_full(cadena2tuplas(\"KC-KH-KS-AD-AC\")))\n",
    "print(es_full(cadena2tuplas(\"KC-KH-KS-KD-AC\")))"
   ]
  },
  {
   "cell_type": "code",
   "execution_count": null,
   "metadata": {
    "collapsed": true
   },
   "outputs": [],
   "source": [
    "def es_trio(tuplas):\n",
    "    '''Comprueba si una mano es trio y devuelve su código alfabético\n",
    "\n",
    "    Trío (Three of a kind o Set)\n",
    "    Tres cartas iguales de valor.\n",
    "    54.912 de 2.598.960 (2,1113%)\n",
    "    CÓDIGO: 'g' + letras de las dos cartas sueltas de mayor a menor\n",
    "    '''\n",
    "    pass"
   ]
  },
  {
   "cell_type": "code",
   "execution_count": null,
   "metadata": {},
   "outputs": [],
   "source": [
    "# Tests de la función es_trio\n",
    "print(es_trio(cadena2tuplas(\"KC-KH-KS-AD-QC\")))\n",
    "print(es_trio(cadena2tuplas(\"KC-KH-KS-AD-AC\")))"
   ]
  },
  {
   "cell_type": "code",
   "execution_count": null,
   "metadata": {
    "collapsed": true
   },
   "outputs": [],
   "source": [
    "def es_doble_pareja(tuplas):\n",
    "    '''Comprueba si una mano es doble_pareja y devuelve su código alfabético\n",
    "\n",
    "    Doble pareja (Two pair o Pocket)\n",
    "    Dos pares de cartas del mismo número (par y par).\n",
    "    123.552 de 2.598.960 (4,759%)\n",
    "    CÓDIGO: 'h' + letras de las dos cartas de las parejas de mayor a menor\n",
    "                + letra de la carta suelta\n",
    "    '''\n",
    "    pass"
   ]
  },
  {
   "cell_type": "code",
   "execution_count": null,
   "metadata": {},
   "outputs": [],
   "source": [
    "# Tests de la función es_doble_pareja\n",
    "print(es_doble_pareja(cadena2tuplas(\"KC-KH-JS-AD-AC\")))\n",
    "print(es_doble_pareja(cadena2tuplas(\"KC-KH-KS-KD-AC\")))"
   ]
  },
  {
   "cell_type": "code",
   "execution_count": null,
   "metadata": {
    "collapsed": true
   },
   "outputs": [],
   "source": [
    "def es_pareja(tuplas):\n",
    "    '''Comprueba si una mano es pareja y devuelve su código alfabético\n",
    "\n",
    "    Pareja (One pair)\n",
    "    Dos cartas iguales de número (y tres diferentes).\n",
    "    1.098.240 de 2.598.960 (42,257%)\n",
    "    CÓDIGO: 'i' + letra de la carta de la pareja\n",
    "                + letras de cartas sueltas de mayor a menor\n",
    "    '''\n",
    "    pass"
   ]
  },
  {
   "cell_type": "code",
   "execution_count": null,
   "metadata": {},
   "outputs": [],
   "source": [
    "# Tests de la función es_pareja\n",
    "print(es_pareja(cadena2tuplas(\"KC-KH-JS-AD-2C\")))\n",
    "print(es_pareja(cadena2tuplas(\"KC-KH-JS-JD-AC\")))"
   ]
  },
  {
   "cell_type": "markdown",
   "metadata": {},
   "source": [
    "Ya tenemos todas las funciones que identifican de manera individual las distintas jugadas del póker. No hemos implementado la función <code>es_carta_mas_alta</code> porque es la jugada _default_ y, por tanto, la detectaremos cuando el resto de las funciones devuelvan el valor <code>False</code>.\n",
    "\n",
    "En la última función que implementaremos en esta sección, vamos a encadenar las llamadas a las funciones de identificación de jugadas para detectar así cuál es la jugada más alta que se puede obtener con una combinación de cartas. En lugar de implementar esta función con una secuencia de <code>if-else</code> anidados, vamos a aprovechar las funciones de orden superior de Python para obtener una implementación muy compacta y legible:"
   ]
  },
  {
   "cell_type": "code",
   "execution_count": null,
   "metadata": {
    "collapsed": true
   },
   "outputs": [],
   "source": [
    "def calcula_codigo(tuplas):\n",
    "    '''Calcula el código alfabétido de una mano\n",
    "\n",
    "    Usa las funciones de comprobación desde las más valiosa (es_escalera_real)\n",
    "    a la menos valiosa (es_pareja) y devuelve el código de la primera que\n",
    "    resulte ser cierta. Si la mano no se corresponde con ninguna de las\n",
    "    jugadas, se construye el código asociado a la jugada 'carta más alta'\n",
    "    que es la jugada de menos valor.\n",
    "    PISTA: usar como punto de partida una lista con las funciones e iterar\n",
    "    sobre ella\n",
    "    '''\n",
    "    pass"
   ]
  },
  {
   "cell_type": "code",
   "execution_count": null,
   "metadata": {},
   "outputs": [],
   "source": [
    "# Tests de la función calcula_codigo\n",
    "print(calcula_codigo(cadena2tuplas(\"10C-KC-QC-JC-AC\")))\n",
    "print(calcula_codigo(cadena2tuplas(\"10C-KC-QC-JC-9C\")))\n",
    "print(calcula_codigo(cadena2tuplas(\"KC-KH-KS-KD-AC\")))\n",
    "print(calcula_codigo(cadena2tuplas(\"KC-KH-KS-AD-AC\")))\n",
    "print(calcula_codigo(cadena2tuplas(\"AC-KC-QC-JC-9C\")))\n",
    "print(calcula_codigo(cadena2tuplas(\"9H-KC-QC-JC-10C\")))\n",
    "print(calcula_codigo(cadena2tuplas(\"KC-KH-KS-AD-QC\")))\n",
    "print(calcula_codigo(cadena2tuplas(\"KC-KH-JS-AD-AC\")))\n",
    "print(calcula_codigo(cadena2tuplas(\"KC-KH-JS-AD-2C\")))\n",
    "print(calcula_codigo(cadena2tuplas(\"KC-JH-9S-4D-2C\")))"
   ]
  },
  {
   "cell_type": "markdown",
   "metadata": {},
   "source": [
    "### 2.3. Generación de jugadas y cáculo de probabilidad de victoria"
   ]
  },
  {
   "cell_type": "markdown",
   "metadata": {
    "collapsed": true
   },
   "source": [
    "Tenemos ya la infraestructura necesaria para poder aplicar el método de Montecarlo para alcanzar el objetivo del ejercicio. Para ello solo nos quedan dos pasos: generar de forma aleatoria manos de póker, y contar cuántas de ellas pierden ante una determinada mano. De esta forma podremos estimar la _fuerza_ de esta mano mediante la proporción de jugadas a las que supera.\n",
    "\n",
    "La función que genera manos de forma aleatoria recibirá como entrada una lista de cartas a excluir, para no generar manos con cartas que ya _han salido_ en el juego:"
   ]
  },
  {
   "cell_type": "code",
   "execution_count": null,
   "metadata": {
    "collapsed": true
   },
   "outputs": [],
   "source": [
    "def genera_mano(a_excluir):\n",
    "    '''Genera una mano de cartas aleatorias sin usar las cartas a_excluir\n",
    "\n",
    "    Usa como base las siguientes listas de cartas y palos\n",
    "    cartas = ['a', 'b', 'c', 'd', 'e', 'f', 'g', 'h', 'i', 'j', 'k', 'l', 'm']\n",
    "    palos = ['C', 'H', 'S', 'D']\n",
    "    '''\n",
    "    pass"
   ]
  },
  {
   "cell_type": "code",
   "execution_count": null,
   "metadata": {},
   "outputs": [],
   "source": [
    "# Test de la función genera_mano\n",
    "for i in range(20):\n",
    "    mano = genera_mano(cadena2tuplas(\"10C-KC-QC-JC-AC\"))\n",
    "    mano = ordena_mano(mano)\n",
    "    print('{:20} {}'.format(tuplas2simbolo(mano), calcula_codigo(mano)))"
   ]
  },
  {
   "cell_type": "markdown",
   "metadata": {},
   "source": [
    "La función que calcula la fuerza de una mano, recibirá como entrada una mano de póker en formato 'tuplas' y el número de iteraciones que se ejecutarán al aplicar el método de Montecarlo. Cuanto mayor sea el número de iteraciones, más fiable será la estimación:"
   ]
  },
  {
   "cell_type": "code",
   "execution_count": null,
   "metadata": {
    "collapsed": true
   },
   "outputs": [],
   "source": [
    "def calcula_valor_mano(tuplas, iteraciones=1000):\n",
    "    ''' Calcula un valor entre 0 y 1 para una mano de cartas\n",
    "\n",
    "    Se aplica el método de Montecarlo generando tantas manos aleatorias\n",
    "    como indique el parámetro iteraciones y calculando el porcentaje de\n",
    "    manos inferiores a la recibida como entrada.\n",
    "    '''\n",
    "    pass"
   ]
  },
  {
   "cell_type": "code",
   "execution_count": null,
   "metadata": {},
   "outputs": [],
   "source": [
    "# Tests de la función calcula_valor_mano\n",
    "print(calcula_valor_mano(cadena2tuplas(\"10C-KC-QC-JC-AC\")))\n",
    "print(calcula_valor_mano(cadena2tuplas(\"KC-KH-JS-AD-AC\")))\n",
    "print(calcula_valor_mano(cadena2tuplas(\"KC-JH-9S-4D-2C\")))"
   ]
  }
 ],
 "metadata": {
  "kernelspec": {
   "display_name": "Python 3",
   "language": "python",
   "name": "python3"
  },
  "language_info": {
   "codemirror_mode": {
    "name": "ipython",
    "version": 3
   },
   "file_extension": ".py",
   "mimetype": "text/x-python",
   "name": "python",
   "nbconvert_exporter": "python",
   "pygments_lexer": "ipython3",
   "version": "3.6.3"
  }
 },
 "nbformat": 4,
 "nbformat_minor": 2
}
