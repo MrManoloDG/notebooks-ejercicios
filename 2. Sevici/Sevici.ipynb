{
 "cells": [
  {
   "cell_type": "markdown",
   "metadata": {},
   "source": [
    "# Ejercicio: Servicio de alquiler de bicicletas públicas de Sevilla (Sevici)\n",
    "**Autor**: Mariano González.      **Revisores**: Carlos G. Vallejo, José A. Troyano, Fermín Cruz.    **Última modificación:** 30/1/2018"
   ]
  },
  {
   "cell_type": "markdown",
   "metadata": {},
   "source": [
    "En este ejercicio vamos a trabajar con la red de estaciones del servicio de alquiler de bicicletas de Sevilla, Sevici. Para ello disponemos de los datos de las estaciones, obtenidos de https://citybik.es/.\n",
    "\n",
    "En primer lugar leeremos los datos de las estaciones desde un fichero CSV. Realizaremos algunas operaciones con los datos, como obtener las estaciones con bicicletas libres o las estaciones más próximas a nuestra ubicación. Seguidamente, dibujaremos sobre el mapa las estaciones, distinguiendo entre las que tienen bicicletas disponibles y las que no las tienen. Finalmente, veremos cómo leer los datos de las estaciones en tiempo real desde la web de citybik.\n",
    "\n",
    "Las funciones que vamos a desarrollar son las siguientes:\n",
    "\n",
    "1. lee_estaciones: lee los datos de las estaciones desde un fichero csv\n",
    "2. estaciones_bicis_libres: crea una lista con las estaciones que tienen bicicletas libres, ordenada por el número de bicis libres\n",
    "3. calcula_distancia: calcular la distancia a una estación desde un punto dado\n",
    "4. estaciones_cercanas: crea una lista con las estaciones con bicis libres más cercanas a un punto dado, ordenadas de la más cercana a la más lejana\n",
    "5. ubicacion_estaciones: crea una lista con las coordenadas de todas las estaciones\n",
    "6. muestra_ubicacion_estaciones: muestra un mapa con la ubicación de todas las estaciones\n",
    "7. ubicacion_estaciones_libres: crea una lista con las coordenadas de todas las estaciones que tienen bicicletas libres\n",
    "8. muestra_ubicacion_estaciones_libres: muestra un mapa con la ubicación de todas las estaciones, indicando el número de bicicletas libres con un código de color\n",
    "9. lee_estaciones_tiempo_real: lee los datos de las estaciones en tiempo real"
   ]
  },
  {
   "cell_type": "markdown",
   "metadata": {},
   "source": [
    "## 1. Carga de datos\n",
    "Se dispone de los datos de las estaciones de la red de Sevici. Los datos se encuentran en un fichero CSV. Cada línea del fichero contiene seis datos:\n",
    "\n",
    "    Nombre de la estación\n",
    "    Número total de bornetas de la estación\n",
    "    Número de bornetas vacías\n",
    "    Número de bicicletas disponibles\n",
    "    Latitud\n",
    "    Longitud\n",
    "\n",
    "Los datos dependen del instante en que se obtiene el fichero, ya que el número de bicicletas y bornetas libres varía de forma continua. Estan serían, por ejemplo, las primeras líneas del fichero en un momento dado:\n",
    "\n",
    "        name,slots,empty_slots,free_bikes,latitude,longitude\n",
    "        149_CALLE ARROYO,20,11,9,37.397829929383,-5.97567172039552\n",
    "        257_TORRES ALBARRACIN,20,16,4,37.38376948792722,-5.908921914235877\n",
    "        243_GLORIETA DEL PRIMERO DE MAYO,15,6,9,37.380439481169994,-5.953481197462845\n",
    "        109_AVENIDA SAN FRANCISCO JAVIER,15,1,14,37.37988413609134,-5.974382770011586\n",
    "        073_PLAZA SAN AGUSTIN,15,10,4,37.38951386231434,-5.984362789545622\n",
    "\n",
    "Los principales aspectos que tendremos que resolver a la hora de procesar estos datos de entrada serán saltar la línea de encabezado del fichero, separar adecuadamente los campos mediante las comas e interpretar el formato de cada uno de los campos, que puede ser de tipo cadena, entero o real.\n",
    "\n",
    "Para resolver estos problemas haremos uso de algunas utilidades disponibles en la librería estándar de Python. En concreto, antes de empezar, deberemos importar los siguientes elementos:"
   ]
  },
  {
   "cell_type": "code",
   "execution_count": null,
   "metadata": {
    "collapsed": true
   },
   "outputs": [],
   "source": [
    "import csv\n",
    "from math import sqrt\n",
    "from matplotlib import pylab as plt\n",
    "from matplotlib import image as mpimg"
   ]
  },
  {
   "cell_type": "markdown",
   "metadata": {},
   "source": [
    "### 1.1 Función de lectura de datos"
   ]
  },
  {
   "cell_type": "markdown",
   "metadata": {},
   "source": [
    "La siguiente función será la encargada de leer el fichero con las estaciones y construir a partir de él una estructura de datos en memoria."
   ]
  },
  {
   "cell_type": "code",
   "execution_count": null,
   "metadata": {
    "collapsed": true
   },
   "outputs": [],
   "source": [
    "def lee_estaciones(fichero):\n",
    "    ''' Lee el fichero de datos y devuelve una lista de estaciones\n",
    "    Entrada: nombre del fichero CSV\n",
    "    Salida: lista de estaciones. Cada estación se representa con una tupla\n",
    "    con los siguientes valores:\n",
    "    - Nombre de la estación\n",
    "    - Número total de bornetas\n",
    "    - Número de bornetas vacías\n",
    "    - Número de bicicletas disponibles\n",
    "    - Latitud\n",
    "    - Longitud\n",
    "    Usaremos el módulo csv de la librería estándar de Python para leer el\n",
    "    fichero de entrada.\n",
    "    Hay que saltar la línea de encabezado del fichero y comenzar a leer los datos\n",
    "    a partir de la segunda línea.\n",
    "    Hay que realizar un pequeño procesamiento con los datos numéricos. Hay que\n",
    "    pasar del formato cadena (que es lo que se interpreta al leer el csv) a un\n",
    "    valor numérico (para poder aplicar operaciones matemáticas si fuese necesario).\n",
    "    '''\n",
    "    pass"
   ]
  },
  {
   "cell_type": "code",
   "execution_count": null,
   "metadata": {},
   "outputs": [],
   "source": [
    "# Test de la función lee_estaciones\n",
    "estaciones_sevici = lee_estaciones('./datos/estaciones.csv')\n",
    "print(estaciones_sevici[:5])"
   ]
  },
  {
   "cell_type": "markdown",
   "metadata": {},
   "source": [
    "## 2. Operaciones de consulta"
   ]
  },
  {
   "cell_type": "markdown",
   "metadata": {},
   "source": [
    "En esta sección veremos una serie de funciones que nos permitirán filtrar y extraer informaciones de la estructura de datos que estamos manejando para representar las estaciones (una lista de tuplas). Utilizaremos estas funciones de _consulta_ en distintos puntos del resto del ejercicio."
   ]
  },
  {
   "cell_type": "markdown",
   "metadata": {},
   "source": [
    "### 2.1 Estaciones con bicicletas libres"
   ]
  },
  {
   "cell_type": "markdown",
   "metadata": {},
   "source": [
    "La primera función de este tipo creará una lista con las estaciones que tienen un número de bicicletas libres superior a un valor dado, que por defecto es 5. La lista de salida estará formada por tuplas con dos elementos, el número de bicicletas libres y el nombre de la estación, y estará ordenada por el número de bicicletas libres"
   ]
  },
  {
   "cell_type": "code",
   "execution_count": null,
   "metadata": {
    "collapsed": true
   },
   "outputs": [],
   "source": [
    "def estaciones_bicis_libres(estaciones, k=5):\n",
    "    ''' Estaciones que tienen bicicletas libres\n",
    "    \n",
    "    Toma como entrada una lista de estaciones y un número k.\n",
    "    Crea una lista formada por tuplas (número de bicicletas libres, nombre)\n",
    "    de las estaciones que tienen al menos k bicicletas libres. La lista\n",
    "    estará ordenada por el número de bicicletas libres.\n",
    "    '''\n",
    "    pass"
   ]
  },
  {
   "cell_type": "code",
   "execution_count": null,
   "metadata": {},
   "outputs": [],
   "source": [
    "# Test de la función estaciones_bicis_libres\n",
    "libres1 = estaciones_bicis_libres(estaciones_sevici)\n",
    "print(\"Hay\", len(libres1), \"estaciones con 5 o más bicis libres:\", libres1[:5])\n",
    "libres2 = estaciones_bicis_libres(estaciones_sevici, 10)\n",
    "print(\"Hay\", len(libres2), \"estaciones con 10 o más bicis libres:\", libres2[:5])\n",
    "libres3 = estaciones_bicis_libres(estaciones_sevici, 1)\n",
    "print(\"Hay\", len(libres3), \"estaciones con al menos una bici libre:\", libres3[:5])"
   ]
  },
  {
   "cell_type": "markdown",
   "metadata": {},
   "source": [
    "### 2.2 Estaciones cercanas a una ubicación"
   ]
  },
  {
   "cell_type": "markdown",
   "metadata": {},
   "source": [
    "La segunda función de consulta creará una lista con las estaciones más próximas a un punto dado que tengan bicicletas libres.\n",
    "\n",
    "En primer lugar vamos a escribir una función que calcule la distancia entre dos puntos dados por su latitud y longitud. Esta función nos permitirá calcular la distancia entre un punto (nuestra ubicación, por ejemplo) y las estaciones cercanas. Utilizaremos la distancia euclídea con una pequeña modificación para tener en cuenta el número de bicicletas libres que hay en la estación. El motivo es el siguiente: si tenemos dos estaciones a una distancia similar, lo más lógico es elegir aquella que tenga más bicicletas libres, ya que será más probable que encontremos una bicicleta cuando lleguemos a la estación.\n",
    "\n",
    "La fórmula que usaremos para calcular la distancia entre una ubicación dada por las coordenadas $(x, y)$ y una estación dada por las coordenadas $(xe, ye)$ que tiene $fb$ bicicletas libres será la siguiente:\n",
    "\n",
    "$$\n",
    "distancia = \\sqrt {(xe-x)^2 + (ye-y)^2} * (1 - \\frac{fb}{100})\n",
    "$$"
   ]
  },
  {
   "cell_type": "code",
   "execution_count": null,
   "metadata": {
    "collapsed": true
   },
   "outputs": [],
   "source": [
    "def calcula_distancia(x1, y1, x2, y2, fb):\n",
    "    ''' Distancia entre un punto y una estación\n",
    "    \n",
    "    Toma como entrada la latitud y longitud de un punto, la longitud y\n",
    "    latitud de una estación y el número de bicicletas libres de la estación.\n",
    "    Calcula la distancia entre el punto y la estación aplicando la fórmula\n",
    "    \n",
    "        distancia = sqrt((x2-x1)**2 + (y2-y1)**2) * (1 - fb/100)\n",
    "    '''\n",
    "    pass"
   ]
  },
  {
   "cell_type": "code",
   "execution_count": null,
   "metadata": {},
   "outputs": [],
   "source": [
    "# Test de la función calcula_distancia\n",
    "_, _, _, fb, lat, lon = estaciones_sevici[0]\n",
    "posicion = (37.357659, -5.9863)\n",
    "distancia = calcula_distancia(posicion[0], posicion[1], lat, lon, fb)\n",
    "print(\"La distancia a la primera estación de la red es:\", distancia)"
   ]
  },
  {
   "cell_type": "markdown",
   "metadata": {},
   "source": [
    "Ahora vamos a escribir la función que calcula las estaciones más cercanas a una ubicación dada y que tienen bicicletas libres, utilizando la función anterior para calcular la distancia desde la ubicación hasta cada estación.\n",
    "\n",
    "La función recibe la lista de estaciones, las coordenadas de la ubicación y un número k, y crea una lista con las k estaciones más cercanas a la ubicación, ordenadas de menor a mayor distancia. La lista resultante está formada por tuplas con tres elementos: la distancia a la ubicación, el nombre de la estación y el número de bicicletas libres de la estación."
   ]
  },
  {
   "cell_type": "code",
   "execution_count": null,
   "metadata": {
    "collapsed": true
   },
   "outputs": [],
   "source": [
    "def estaciones_cercanas(estaciones, latitud, longitud, k=5):\n",
    "    ''' Estaciones cercanas a un punto dado\n",
    "    \n",
    "    Toma como entrada una lista de estaciones, la latitud y longitud de un punto y\n",
    "    un valor k.\n",
    "    Crea una lista formada por tuplas (distancia, nombre de estación, bicicletas libres)\n",
    "    con las k estaciones con bicicletas libres más cercanas al punto dado, ordenada por\n",
    "    su distancia al punto.\n",
    "    '''\n",
    "    pass"
   ]
  },
  {
   "cell_type": "code",
   "execution_count": null,
   "metadata": {},
   "outputs": [],
   "source": [
    "# Test de la función\n",
    "cerca_de_mi = estaciones_cercanas(estaciones_sevici, 37.357659, -5.9863)\n",
    "print(cerca_de_mi)"
   ]
  },
  {
   "cell_type": "markdown",
   "metadata": {},
   "source": [
    "## 3. Visualización de estaciones"
   ]
  },
  {
   "cell_type": "markdown",
   "metadata": {},
   "source": [
    "Vamos a visualizar gráficamente algunos resultados. Para ello dibujaremos un mapa y sobre él marcaremos las estaciones que cumplan algunos requisitos, como por ejemplo tener un número mínimo de bicicletas libres.\n",
    "\n",
    "Antes que nada, ejecutaremos las dos funciones siguientes. La primera carga una imagen y la coloca como fondo del gráfico. La segunda genera un conjunto de puntos que representan estaciones en la red. En las funciones que escribiremos más adelante llamaremos a estas funciones para crear el mapa y dibujar sobre él las estaciones."
   ]
  },
  {
   "cell_type": "code",
   "execution_count": null,
   "metadata": {
    "collapsed": true
   },
   "outputs": [],
   "source": [
    "def dibuja_mapa():\n",
    "    ancho = 9\n",
    "    aspect_ratio = 1.09\n",
    "    img = mpimg.imread('./datos/mapa.png')\n",
    "    plt.figure(figsize=(ancho, ancho * aspect_ratio))\n",
    "    plt.imshow(img, zorder=0, extent=[0, ancho, 0, ancho * aspect_ratio])    \n",
    "    plt.axis('off')    "
   ]
  },
  {
   "cell_type": "code",
   "execution_count": null,
   "metadata": {
    "collapsed": true
   },
   "outputs": [],
   "source": [
    "def dibuja_estaciones(coordenadas, color=\"red\"):\n",
    "    ancho = 9\n",
    "    aspect_ratio = 1.09\n",
    "    xs = [(x - 37.31) * ancho * aspect_ratio / 0.13 for x, _ in coordenadas]\n",
    "    ys = [(y + 6.04) * ancho / 0.15 for _, y in coordenadas]\n",
    "    plt.scatter(ys, xs, zorder=1, s=10, color=color)"
   ]
  },
  {
   "cell_type": "markdown",
   "metadata": {},
   "source": [
    "### 3.1 Mostrar todas las estaciones"
   ]
  },
  {
   "cell_type": "markdown",
   "metadata": {},
   "source": [
    "En primer lugar vamos a mostrar sobre el mapa todas las estaciones de la red. Para ello crearemos una lista con las coordenadas (latitud y longitud) de todas las estaciones."
   ]
  },
  {
   "cell_type": "code",
   "execution_count": null,
   "metadata": {
    "collapsed": true
   },
   "outputs": [],
   "source": [
    "def ubicacion_estaciones(estaciones):\n",
    "    ''' Coordenadas de todas las estaciones\n",
    "    \n",
    "    Recibe un lista de estaciones.\n",
    "    Crea una lista formada por tuplas (latitud, longitud) con todas las estaciones.\n",
    "    '''\n",
    "    pass"
   ]
  },
  {
   "cell_type": "markdown",
   "metadata": {},
   "source": [
    "Una vez que tenemos las coordenadas de las estaciones, vamos a mostrarlas sobre el mapa. Primero cargaremos la imagen de fondo y luego generaremos los puntos que representan las estaciones, usando las dos funciones dadas más arriba. Para dibujar la imagen resultante usaremos el siguiente código:\n",
    "<pre>\n",
    "plt.show()\n",
    "</pre>"
   ]
  },
  {
   "cell_type": "code",
   "execution_count": null,
   "metadata": {
    "collapsed": true
   },
   "outputs": [],
   "source": [
    "def muestra_ubicacion_estaciones(estaciones):\n",
    "    ''' Dibuja sobre el mapa todas las estaciones de la red\n",
    "    \n",
    "    Recibe una lista de estaciones.\n",
    "    Dibuja todas las estaciones sobre el mapa.\n",
    "    '''\n",
    "    pass"
   ]
  },
  {
   "cell_type": "code",
   "execution_count": null,
   "metadata": {},
   "outputs": [],
   "source": [
    "# Test de la función ubicacion_estaciones\n",
    "muestra_ubicacion_estaciones(estaciones_sevici)"
   ]
  },
  {
   "cell_type": "markdown",
   "metadata": {},
   "source": [
    "### 3.2 Mostrar todas las estaciones indicando si tienen o no bicis libres"
   ]
  },
  {
   "cell_type": "markdown",
   "metadata": {},
   "source": [
    "En segundo lugar vamos a mostrar en el mapa todas las estaciones, pero distinguiendo entre las que no tienen bicicletas libres, que aparecerán en color rojo, las que tienen menos de una cierta cantidad de bicicletas libres, que aperecerán en color amarillo, y las que tienen al menos esa cantidad de bicicletas libres, que aparecerán en color verde.\n",
    "\n",
    "Ya tenemos la función que calcula las coordenadas de todas las estaciones. Vamos a escribir ahora una nueva función que calcule las coordenadas de todas las estaciones que tienen un número mínimo de bicicletas libres. Este número será un parámetro de la función."
   ]
  },
  {
   "cell_type": "code",
   "execution_count": null,
   "metadata": {
    "collapsed": true
   },
   "outputs": [],
   "source": [
    "def ubicacion_estaciones_libres(estaciones, k):\n",
    "    ''' Coordenadas de las estaciones con bicicletas libres\n",
    "    \n",
    "    Recibe una lista de estaciones y un valor k.\n",
    "    Crea una lista formada por tuplas (latitud, longitud) con todas las estaciones\n",
    "    que tienen más de k estaciones libres.\n",
    "    '''\n",
    "    pass"
   ]
  },
  {
   "cell_type": "markdown",
   "metadata": {},
   "source": [
    "Ahora ya podemos mostrar en el mapa las estaciones indicando mediante un código de color si la estación tiene bicicletas libres, y en caso afirmativo si tiene menos o más de una cierta cantidad. Esta cantidad será un parámetro de la función, que tendrá por defecto un valor igual a 5.\n",
    "\n",
    "Para hacer esto, vamos a llamar a las funciones que acabamos de escribir. Como antes, para dibujar la imagen resultante usaremos el siguiente código:\n",
    "<pre>\n",
    "plt.show()\n",
    "</pre>"
   ]
  },
  {
   "cell_type": "code",
   "execution_count": null,
   "metadata": {
    "collapsed": true
   },
   "outputs": [],
   "source": [
    "def muestra_ubicacion_estaciones_libres(estaciones, umbral=5):\n",
    "    ''' Dibuja sobre el mapa las estaciones con un color que indica su estado\n",
    "    \n",
    "    Recibe una lista de estaciones.\n",
    "    Dibuja en el mapa todas las estaciones con un código de color:\n",
    "    - En rojo las estaciones que no tienen bicicletas libres\n",
    "    - En amarilo las estaciones que tienen más de 1 y menos de k bicicletas libres\n",
    "    - En verde las estaciones que tienen k o más bicicletas libres\n",
    "    '''\n",
    "    pass"
   ]
  },
  {
   "cell_type": "code",
   "execution_count": null,
   "metadata": {},
   "outputs": [],
   "source": [
    "# Test de la función muestra_ubicacion_estaciones_libres\n",
    "muestra_ubicacion_estaciones_libres(estaciones_sevici)"
   ]
  },
  {
   "cell_type": "markdown",
   "metadata": {},
   "source": [
    "## 4. Consulta de datos en tiempo real (ejercicio avanzado)"
   ]
  },
  {
   "cell_type": "markdown",
   "metadata": {},
   "source": [
    "Como ejercicio avanzado, vamos a hacer unos cambios para leer los datos de las estaciones en tiempo real, en lugar de hacerlo desde un fichero CSV.\n",
    "\n",
    "Para ello vamos a conectarnos al servicio web de CityBik, https://citybik.es/ y vamos a obtener de él la información de Sevici."
   ]
  },
  {
   "cell_type": "code",
   "execution_count": null,
   "metadata": {
    "collapsed": true
   },
   "outputs": [],
   "source": [
    "# Código propuesto por el alumno Juan José Requena\n",
    "\n",
    "# Módulo para obtener la información de una url\n",
    "import urllib.request\n",
    "# Módulo para parsear datos en formato JSON y convertirlos en un diccionario\n",
    "import json\n",
    "\n",
    "def lee_estaciones_tiempo_real():\n",
    "    fp = urllib.request.urlopen(\"https://api.citybik.es/v2/networks/sevici\")\n",
    "    lectura = fp.read()\n",
    "\n",
    "    # Transformar los datos leídos, que están en formato JSON, en un diccionario\n",
    "    formato = json.loads(lectura)\n",
    "\n",
    "    '''\n",
    "    (Entrar en la url anterior para ver en el navegador el contenido del json)\n",
    "    El diccionario está formado por claves y valores. En este caso,\n",
    "    el valor de la primera clave, el que nos interesa (\"network\"), es otro diccionario. \n",
    "    La siguiente clave que nos interesa dentro de este diccionario es \"stations\".\n",
    "    El valor de \"stations\" es una lista de diccionarios.\n",
    "    Cada diccionario de esa lista es una estación y cada clave es el tipo\n",
    "    de información que queremos, por ejemplo \"nombre de la estacion\" o \"bicis libres\".\n",
    "\n",
    "    1. Entramos en la lista de diccionarios que está dentro del valor de  \"stations\"\n",
    "    y a su vez, dentro del valor de la clave \"network\" \n",
    "    '''\n",
    "    estaciones = formato[\"network\"][\"stations\"] \n",
    "    estaciones_act = []\n",
    "    \n",
    "    '''\n",
    "    2. Escribimos un bucle for en el cual cada \"e\" va a ser cada diccionario que hay\n",
    "    dentro de la lista de diccionarios de \"stations\".\n",
    "    En el caso de \"slots\", este es el valor de una de las claves de \"extra\",\n",
    "    por ello nos metemos en la clave \"extra\" y luego en la clave \"slots\"\n",
    "    '''\n",
    "    for e in estaciones:\n",
    "        estaciones_act.append((e[\"name\"], e[\"extra\"][\"slots\"], e[\"empty_slots\"],\n",
    "                               e[\"free_bikes\"], e[\"latitude\"], e[\"longitude\"]))\n",
    "    return estaciones_act"
   ]
  },
  {
   "cell_type": "code",
   "execution_count": null,
   "metadata": {},
   "outputs": [],
   "source": [
    "# Test de la función lee_estaciones_tiempo_real\n",
    "estaciones_sevici_act = lee_estaciones_tiempo_real()\n",
    "print(estaciones_sevici_act[:5])"
   ]
  },
  {
   "cell_type": "markdown",
   "metadata": {},
   "source": [
    "Ahora podemos ejecutar las funciones de los apartados 2 y 3 con esta lista de estaciones y obtendremos resultados equivalentes a los anteriores pero con datos actualizados en tiempo real.\n",
    "\n",
    "Por ejemplo, veamos el mapa de estaciones, que podemos comparar con el mapa anterior."
   ]
  },
  {
   "cell_type": "code",
   "execution_count": null,
   "metadata": {},
   "outputs": [],
   "source": [
    "# Test de la función ubicacion_estaciones_libres\n",
    "muestra_ubicacion_estaciones_libres(estaciones_sevici_act)"
   ]
  }
 ],
 "metadata": {
  "anaconda-cloud": {},
  "kernelspec": {
   "display_name": "Python 3",
   "language": "python",
   "name": "python3"
  },
  "language_info": {
   "codemirror_mode": {
    "name": "ipython",
    "version": 3
   },
   "file_extension": ".py",
   "mimetype": "text/x-python",
   "name": "python",
   "nbconvert_exporter": "python",
   "pygments_lexer": "ipython3",
   "version": "3.6.3"
  }
 },
 "nbformat": 4,
 "nbformat_minor": 2
}
