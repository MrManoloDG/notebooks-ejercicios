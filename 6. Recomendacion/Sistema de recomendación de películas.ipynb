{
 "cells": [
  {
   "cell_type": "markdown",
   "metadata": {},
   "source": [
    "# Ejercicio: Sistema de recomendación de películas\n",
    "**Autor**: Fermín Cruz.   **Revisor**: José A. Troyano.  **Última modificación**: 7 de septiembre de 2017"
   ]
  },
  {
   "cell_type": "markdown",
   "metadata": {},
   "source": [
    "Partiendo de las puntuaciones otorgadas por un conjunto de usuarios\n",
    "a distintas películas, en el rango 1-5 (1: no me ha gustado nada, 5: me ha encantado), se trata de recomendar\n",
    "a un usuario determinado películas que puedan resultarle \n",
    "interesantes, a la vista de sus preferencias y de las del resto\n",
    "de usuarios. \n",
    "\n",
    "Para ello, vamos a representar las preferencias de un usuario mediante un vector, y luego vamos a buscar usuarios con gustos parecidos comparando sus respectivos vectores. Esto es, en esencia, lo que hacen los **sistemas de recomendación**, que son usados por páginas de venta on-line como *Amazon* o servicios de *streaming* como *Netflix* o *Spotify*.\n",
    "\n",
    "Los datos que vamos a utilizar han sido extraídos de https://grouplens.org/datasets/movielens/. Se trata de un conjunto de datos que se usa en trabajos de investigación en el campo de los sistemas de recomendación. A continuación, describimos el formato de los dos archivos que contienen los datos (se trata de archivos CSV, si no sabes qué es el formato CSV, mira aquí: https://es.wikipedia.org/wiki/Valores_separados_por_comas):\n",
    "\n",
    "* movies.csv: contiene un identificador numérico para cada película del sistema, junto a su título y géneros. Un ejemplo de su contenido:\n",
    "<pre>\n",
    "        movieId,title,genres\n",
    "        1,Toy Story (1995),Adventure|Animation|Children|Comedy|Fantasy\n",
    "        2,Jumanji (1995),Adventure|Children|Fantasy\n",
    "        3,Grumpier Old Men (1995),Comedy|Romance\n",
    "        4,Waiting to Exhale (1995),Comedy|Drama|Romance\n",
    "</pre>\n",
    "\n",
    "* ratings.csv: contiene las puntuaciones otorgadas a películas por los usuarios. Un ejemplo de su contenido:\n",
    "<pre>\n",
    "        userId,movieId,rating,timestamp\n",
    "        1,31,2.5,1260759144\n",
    "        1,1029,3.0,1260759179\n",
    "        1,1061,3.0,1260759182\n",
    "        1,1129,2.0,1260759185\n",
    "        1,1172,4.0,1260759205\n",
    "        1,1263,2.0,1260759151\n",
    "        1,1287,2.0,1260759187\n",
    "</pre>\n",
    "\n",
    "De los datos aquí mostrados, sólo nos interesan los identificadores de los usuarios, los títulos de las películas y las puntuaciones otorgadas por los usuarios a las películas; no utilizaremos ni los géneros de las películas ni los *timestamps* (que son marcas de tiempo correspondientes al momento en que el usuario puntuó a una película). \n",
    "\n",
    "Complete a continuación las definiciones de funciones que se describen."
   ]
  },
  {
   "cell_type": "markdown",
   "metadata": {},
   "source": [
    "## 1. Funciones de carga de datos"
   ]
  },
  {
   "cell_type": "markdown",
   "metadata": {},
   "source": [
    "Vamos a comenzar implementando las funciones que leerán los datos de los ficheros anteriores. Para leer archivos CSV, importaremos el siguiente módulo:"
   ]
  },
  {
   "cell_type": "code",
   "execution_count": null,
   "metadata": {
    "collapsed": true
   },
   "outputs": [],
   "source": [
    "import csv"
   ]
  },
  {
   "cell_type": "markdown",
   "metadata": {},
   "source": [
    "Para leer un CSV de una manera muy sencilla, es recomendable utilizar un objeto de tipo **DictReader**, tal como viene definido en el módulo **csv**. Aquí tienes un enlace a la documentación de este tipo: https://docs.python.org/3.1/library/csv.html#csv.DictReader. Si buscas en Google, puedes encontrar algunos ejemplos de uso: https://www.google.es/search?q=stackoverflow+dictreader+example+\"python+3\"."
   ]
  },
  {
   "cell_type": "markdown",
   "metadata": {},
   "source": [
    "### 1.1. Función carga_peliculas\n",
    "La función **carga_peliculas** recibe el nombre del fichero que almacena los títulos de las películas que se usarán en el sistema de recomendación, en formato CSV. La función debe devolver un diccionario en el que las claves serán los identificadores numéricos de las películas y los valores asociados serán los títulos de dichas películas:\n",
    "\n",
    "|  Clave: id. de película  | Valor: título         |\n",
    "|------|-----------------|\n",
    "|   1  | \"Toy Story (1995)\"|\n",
    "|   2  | \"Jumanji (1995)\"|\n",
    "|   3  | \"Grumpier Old Men (1995)\"|\n",
    "|   4  | \"Waiting to Exhale (1995)\"|\n",
    "|  ... | ...|\n",
    "Es importante que almacenemos los identificadores como números enteros, no como cadenas de texto. Ten en cuenta que DictReader devuelve cada dato como una cadena de texto, y que para convertir dichas cadenas a números enteros debemos usar la función predefinida **int**."
   ]
  },
  {
   "cell_type": "code",
   "execution_count": null,
   "metadata": {
    "collapsed": true
   },
   "outputs": [],
   "source": [
    "def carga_peliculas(filename):\n",
    "    ''' \n",
    "    Recibe el nombre del fichero que almacena los títulos de las películas que \n",
    "    se usarán en el sistema de recomendación en formato CSV. El fichero en \n",
    "    cuestión debe usar UTF-8 como formato de codificación de caracteres.\n",
    "\n",
    "    Ejemplo del formato del CSV:\n",
    "    movieId,title,genres\n",
    "    1,Toy Story (1995),Adventure|Animation|Children|Comedy|Fantasy\n",
    "    2,Jumanji (1995),Adventure|Children|Fantasy\n",
    "    3,Grumpier Old Men (1995),Comedy|Romance\n",
    "     ...\n",
    "\n",
    "    Devuelve un diccionario en el que las claves son los identificadores y el \n",
    "    valor asociado es el título de la película.\n",
    "    Ejemplo:\n",
    "    {1:'Toy Story', 2:'Jumanji', 3:'Grumpier Old Men', ...}\n",
    "    '''\n",
    "    \n",
    "    pass # Elimina esta instrucción"
   ]
  },
  {
   "cell_type": "code",
   "execution_count": null,
   "metadata": {
    "collapsed": true
   },
   "outputs": [],
   "source": [
    "# Aquí una pequeña prueba para ver si funciona bien tu función.\n",
    "# Debes tener el archivo \"movies.csv\" disponible en la ruta en la que estás ejecutando este notebook.\n",
    "\n",
    "peliculas = carga_peliculas(\"movies.csv\")\n",
    "peliculas"
   ]
  },
  {
   "cell_type": "markdown",
   "metadata": {},
   "source": [
    "---"
   ]
  },
  {
   "cell_type": "markdown",
   "metadata": {},
   "source": [
    "### 1.2. Función carga_puntuaciones\n",
    "La función **carga_puntuaciones** lee los datos del fichero que almacena las puntuaciones otorgadas por los usuarios a las películas. En parte, la función es similar a la anterior, pues los datos deben cargarse a partir de un archivo CSV. Sin embargo, en esta ocasión el diccionario a devolver es un poco más complejo en su estructura: las claves serán los identificadores de los usuarios, y los valores asociados serán **listas de tuplas** formadas por el identificador de una película y la puntuación dada por el usuario a esa película, entre 1.0 y 5.0.\n",
    "\n",
    "\n",
    "|  Clave: id de usuario  | Valor: lista de puntuaciones  |\n",
    "|------|-----------------|\n",
    "|   1  | [(31, 2.5), (1029, 3.0), (1129, 2.0), ...]|\n",
    "|   2  | [(10, 4.0), (17, 5.0), (39, 5.0), ...]|\n",
    "|   3  | [(60, 3.0), (110, 4.0), (247, 3.5), ...]|\n",
    "|   4  | [(10, 4.0), (34, 5.0), (112, 5.0), ...]|\n",
    "|   ...  | ...|\n",
    "\n",
    "Al igual que antes, es importante que almacenemos los números enteros y reales como tales, y no como cadenas de texto, pues esto nos facilitará más adelante hacer operaciones aritméticas con dichos valores. Utiliza para ello las funciones predefinidas **int** y **float**."
   ]
  },
  {
   "cell_type": "code",
   "execution_count": null,
   "metadata": {
    "collapsed": true
   },
   "outputs": [],
   "source": [
    "def carga_puntuaciones(filename):\n",
    "    ''' \n",
    "    Recibe el nombre del fichero que almacena las puntuaciones dadas\n",
    "    por los usuarios a las películas, en formato CSV.\n",
    "\n",
    "    Ejemplo del formato del CSV:\n",
    "    userId,movieId,rating,timestamp\n",
    "    1,31,2.5,1260759144\n",
    "    1,1029,3.0,1260759179\n",
    "    1,1061,3.0,1260759182\n",
    "    1,1129,2.0,1260759185\n",
    "     ...\n",
    "\n",
    "    Devuelve un diccionario en el que las claves son los identificadores de\n",
    "    los usuarios, y los valores asociados son listas de tuplas formadas por \n",
    "    el identificador de una película y la puntuación dada por el usuario\n",
    "    a esa película, entre 1.0 y 5.0.\n",
    "    Ejemplo:\n",
    "    {1:[(31,2.5),(1029,3.0),(1061,3.0),(1129,2.0),...], 2:[...], ...}\n",
    "    '''\n",
    "    \n",
    "    pass # Elimina esta instrucción    "
   ]
  },
  {
   "cell_type": "code",
   "execution_count": null,
   "metadata": {
    "collapsed": true
   },
   "outputs": [],
   "source": [
    "# Aquí tienes una prueba del método anterior.\n",
    "# El archivo \"ratings.csv\" debe estar disponible en la ruta en la que estás ejecutando este notebook.\n",
    "puntuaciones = carga_puntuaciones(\"ratings.csv\")\n",
    "puntuaciones"
   ]
  },
  {
   "cell_type": "markdown",
   "metadata": {},
   "source": [
    "---"
   ]
  },
  {
   "cell_type": "markdown",
   "metadata": {},
   "source": [
    "### 1.3. Número total de películas y puntuaciones \n",
    "Ahora que tenemos las películas y las puntuaciones cargadas en variables, podemos responder algunas preguntas. Intenta escribir el código necesario para hallar las respuestas:"
   ]
  },
  {
   "cell_type": "code",
   "execution_count": null,
   "metadata": {
    "collapsed": true
   },
   "outputs": [],
   "source": [
    "# ¿Cuántas películas hay en nuestros archivos de datos?\n",
    "\n",
    "# ¿Cuántos usuarios hay en nuestros archivos de datos?\n",
    "\n"
   ]
  },
  {
   "cell_type": "markdown",
   "metadata": {},
   "source": [
    "---"
   ]
  },
  {
   "cell_type": "markdown",
   "metadata": {},
   "source": [
    "<span style=\"color:blue;font-weight:bold\"> ֍ EJERCICIO AVANZADO 1</span>"
   ]
  },
  {
   "cell_type": "code",
   "execution_count": null,
   "metadata": {
    "collapsed": true
   },
   "outputs": [],
   "source": [
    "# ¿Cuál es el usuario que ha puntuado más películas?\n",
    "\n",
    "\n",
    "# ¿Cuál es la película más vista por los usuarios del sistema?\n",
    "from collections import Counter\n",
    "\n",
    "\n",
    "# ¿Cuál es la media de las puntuaciones en el sistema?\n"
   ]
  },
  {
   "cell_type": "markdown",
   "metadata": {},
   "source": [
    "---"
   ]
  },
  {
   "cell_type": "markdown",
   "metadata": {},
   "source": [
    "## 2. Funciones de visualización de puntuaciones"
   ]
  },
  {
   "cell_type": "markdown",
   "metadata": {},
   "source": [
    "### 2.1 Función muestra_puntuaciones\n",
    "Para visualizar los gustos de un usuario determinado, nos va a resultar útil disponer de una función que nos muestre la información con el siguiente formato:\n",
    "\n",
    "<pre>\n",
    "Puntuaciones del usuario 1\n",
    "\tPelícula: Cinema Paradiso (Nuovo cinema Paradiso) (1989) - Puntuación: 4.0\n",
    "\tPelícula: French Connection, The (1971) - Puntuación: 4.0\n",
    "\tPelícula: Tron (1982) - Puntuación: 4.0\n",
    "\tPelícula: Dracula (Bram Stoker's Dracula) (1992) - Puntuación: 3.5\n",
    "    ...\n",
    "</pre>\n",
    "\n",
    "Fíjate en que queremos que aparezcan en primer lugar las películas con mejores puntuaciones. Completa a continuación la definición de la función correspondiente."
   ]
  },
  {
   "cell_type": "code",
   "execution_count": null,
   "metadata": {
    "collapsed": true
   },
   "outputs": [],
   "source": [
    "def muestra_puntuaciones(usuario, puntuaciones, peliculas):\n",
    "    '''\n",
    "    Recibe el identificador de un usuario, el diccionario de \n",
    "    puntuaciones {usuario:[(pelicula,puntuacion)]}\n",
    "    y el diccionario de películas {identificador:titulo}.\n",
    "\n",
    "    Muestra en la consola las películas puntuadas por el usuario, junto\n",
    "    con las puntuaciones otorgadas. Las puntuaciones se muestran ordenadas\n",
    "    de mayor a menor, es decir, primero se muestran las películas que \n",
    "    más han gustado al usuario.\n",
    "\n",
    "    Ejemplo de salida de la función:\n",
    "    Puntuaciones del usuario 1\n",
    "        Película: Cinema Paradiso (Nuovo cinema Paradiso) (1989) Puntuación: 4.0\n",
    "        Película: French Connection, The (1971) Puntuación: 4.0\n",
    "        Película: Tron (1982) Puntuación: 4.0\n",
    "        Película: Dracula (Bram Stoker's Dracula) (1992) Puntuación: 3.5\n",
    "        Película: Dumbo (1941) Puntuación: 3.0\n",
    "        Película: Sleepers (1996) Puntuación: 3.0\n",
    "        ...\n",
    "    '''\n",
    "    \n",
    "    pass # Elimina esta instrucción"
   ]
  },
  {
   "cell_type": "code",
   "execution_count": null,
   "metadata": {
    "collapsed": true
   },
   "outputs": [],
   "source": [
    "# Probemos la función anterior\n",
    "muestra_puntuaciones(1,puntuaciones,peliculas)"
   ]
  },
  {
   "cell_type": "markdown",
   "metadata": {},
   "source": [
    "---"
   ]
  },
  {
   "cell_type": "markdown",
   "metadata": {},
   "source": [
    "### 2.2. Función muestra_puntuaciones_comunes\n",
    "Otra función de visualización que nos será útil más adelante es la que hemos llamado **muestra_puntuaciones_comunes**. Dados dos usuarios, se trata de mostrar las puntuaciones de aquellas películas que han sido puntuadas por los dos usuarios. Usaremos el siguiente formato:\n",
    "\n",
    "<pre>\n",
    "    Puntuaciones para películas comunes de los usuarios 1 y 4\n",
    "        Película: Star Trek: The Motion Picture (1979) Puntuaciones: 2.5 - 4.0\n",
    "        Película: French Connection, The (1971) Puntuaciones: 4.0 - 5.0\n",
    "        Película: Tron (1982) Puntuaciones: 4.0 - 4.0\n",
    "    ...\n",
    "</pre>\n",
    "\n",
    "Completa a continuación la definición de la función correspondiente.\n",
    "\n",
    "**Truco**: Utiliza los **conjuntos** (https://docs.python.org/3/tutorial/datastructures.html#sets), que permiten realizar operaciones como la **intersección** y la **diferencia** de conjuntos."
   ]
  },
  {
   "cell_type": "code",
   "execution_count": null,
   "metadata": {
    "collapsed": true
   },
   "outputs": [],
   "source": [
    "def muestra_puntuaciones_comunes(usuario1, usuario2, puntuaciones, peliculas):\n",
    "    '''\n",
    "    Muestra las puntuaciones de las películas comunes a los usuarios \n",
    "    indicados.\n",
    "    \n",
    "    Recibe los identificadores de los usuarios, el diccionario de \n",
    "    puntuaciones {usuario:[(pelicula,puntuacion)]}\n",
    "    y el diccionario de películas {identificador:titulo} \n",
    "    \n",
    "    Ejemplo de salida por consola:\n",
    "    Puntuaciones para películas comunes de los usuarios 1 y 4\n",
    "        Película: Star Trek: The Motion Picture (1979) Puntuaciones: 2.5 - 4.0\n",
    "        Película: French Connection, The (1971) Puntuaciones: 4.0 - 5.0\n",
    "        Película: Tron (1982) Puntuaciones: 4.0 - 4.0\n",
    "        Película: Willow (1988) Puntuaciones: 2.0 - 3.0\n",
    "        Película: Time Bandits (1981) Puntuaciones: 1.0 - 5.0\n",
    "     ...\n",
    "    '''\n",
    "   \n",
    "    pass # Elimina esta instrucción\n"
   ]
  },
  {
   "cell_type": "code",
   "execution_count": null,
   "metadata": {
    "collapsed": true
   },
   "outputs": [],
   "source": [
    "# Probemos la función anterior\n",
    "muestra_puntuaciones_comunes(1, 4, puntuaciones, peliculas)"
   ]
  },
  {
   "cell_type": "markdown",
   "metadata": {},
   "source": [
    "## 3. Funciónes de similitud"
   ]
  },
  {
   "cell_type": "markdown",
   "metadata": {},
   "source": [
    "La manera en que mediremos cuánto se parecen dos usuarios será comparando las puntuaciones que han dado a las películas del sistema. Podemos imaginarnos a cada usuario como un **vector** de tantas posiciones como películas hay en el sistema; en cada posición del vector tendremos un 0 si el usuario no ha puntuado a la película correspondiente, o un número real entre 1 y 5 con la puntuación dada por el usuario a la película. \n",
    "\n",
    "Las listas que hemos leído en la función *carga_puntuaciones* para cada usuario son una representación compacta de estos vectores, en la que hemos obviado los numerosos ceros. Veamos por ejemplo la lista correspondiente al usuario cuyo identificador es el 1 es la siguiente:"
   ]
  },
  {
   "cell_type": "code",
   "execution_count": null,
   "metadata": {
    "collapsed": true
   },
   "outputs": [],
   "source": [
    "puntuaciones[1]"
   ]
  },
  {
   "cell_type": "markdown",
   "metadata": {},
   "source": [
    "Lo cual significa que el vector de este usuario estaría formado por 30 ceros, a continuación vendría el valor 2.5 (puntuación otorgada por el usuario a la película 31), a continuación vendrían 997 ceros (hasta la posición 1028 del vector), a continuación vendría el valor 3.0 (puntuación otorgada por el usuario a la película 1029), etc.\n",
    "\n",
    "### 3.1. Función similitud_coseno\n",
    "Para comparar los vectores correspondientes a dos usuarios utilizaremos la **similitud del coseno**. Esta medida consiste en calcular el coseno del ángulo que forman los dos vectores, de manera que si ambos vectores \"apuntan\" en la misma dirección, el valor de similitud tendrá el valor máximo (1.0), y si apuntan en direcciones completamente opuestas tendrá el valor mínimo (-1.0). La fórmula para calcular la similitud del coseno es la siguiente (siendo **x** e **y** los vectores que queremos comparar):\n",
    "\n",
    "$$ cos(\\pmb x, \\pmb y) = \\frac {\\pmb x \\cdot \\pmb y}{||\\pmb x|| \\cdot ||\\pmb y||} $$\n",
    "\n",
    "En esta fórmula, $\\pmb x \\cdot \\pmb y$ representa el **producto escalar** de los vectores, y $||\\pmb x||$ e $||\\pmb y||$ son el **módulo** de $\\pmb x$ e $\\pmb y$, respectivamente. En caso de que alguno de los vectores esté formado únicamente por ceros, el módulo sería 0, en cuyo caso la fórmula anterior no podría calcularse; en dicho caso, diremos que la similitud del coseno es igual a 0.\n",
    "\n",
    "Si no sabes cómo se calcula el producto escalar o el módulo, haz una búsqueda en internet.\n",
    "\n",
    "Ya sabes todo lo necesario para definir la función **similitud_coseno**. Antes, tendrás que definir las funciones auxiliares **producto_escalar** y **modulo**."
   ]
  },
  {
   "cell_type": "code",
   "execution_count": null,
   "metadata": {
    "collapsed": true
   },
   "outputs": [],
   "source": [
    "import math\n",
    "\n",
    "def modulo(usuario):\n",
    "    '''\n",
    "    Recibe una lista de puntuaciones a películas y devuelve\n",
    "    el módulo del vector definido por dicha lista.\n",
    "\n",
    "    Ejemplo de lista de puntuaciones:\n",
    "    [(31,2.5),(1029,3.0),(1061,3.0),...]\n",
    "\n",
    "    El vector que define la lista anterior sería el formado por las puntuaciones\n",
    "    indicadas en la lista en las posiciones correspondientes a los identificadores\n",
    "    de las películas puntuadas, y ceros en el resto de posiciones del vector.\n",
    "\n",
    "    [0,0,0,0,0,...,0,2.5,0,....0,3.0,0,....0,3.0,0....]\n",
    "    \n",
    "    '''\n",
    "    \n",
    "    pass # Elimina esta instrucción"
   ]
  },
  {
   "cell_type": "code",
   "execution_count": null,
   "metadata": {
    "collapsed": true
   },
   "outputs": [],
   "source": [
    "def producto_escalar(usuario1, usuario2):\n",
    "    ''' \n",
    "    Recibe dos listas de puntuaciones a películas y devuelve\n",
    "    el producto escalar de los vectores definidos por dichas listas.    \n",
    "    '''\n",
    "\n",
    "    pass # Elimina esta instrucción"
   ]
  },
  {
   "cell_type": "code",
   "execution_count": null,
   "metadata": {
    "collapsed": true
   },
   "outputs": [],
   "source": [
    "def similitud_coseno(usuario1, usuario2):\n",
    "    '''\n",
    "    Recibe dos lista de puntuaciones a películas y devuelve\n",
    "    la similitud del coseno entre los vectores definidos\n",
    "    por ambas listas.\n",
    "    '''\n",
    "\n",
    "    pass # Elimina esta instrucción"
   ]
  },
  {
   "cell_type": "code",
   "execution_count": null,
   "metadata": {
    "collapsed": true
   },
   "outputs": [],
   "source": [
    "# Probemos la función similitud_coseno\n",
    "vector_usuario1 = puntuaciones[1]\n",
    "vector_usuario2 = puntuaciones[2]\n",
    "vector_usuario4 = puntuaciones[4]\n",
    "print(\"Similitud usuario 1 consigo mismo:\",similitud_coseno(vector_usuario1,vector_usuario1)) # debe ser 1.0\n",
    "print(\"Similitud usuario 1 con usuario 2:\",similitud_coseno(vector_usuario1,vector_usuario2)) # debe ser 0.0\n",
    "print(\"Similitud usuario 1 con usuario 4:\",similitud_coseno(vector_usuario1,vector_usuario4)) # debe ser 0.07448"
   ]
  },
  {
   "cell_type": "markdown",
   "metadata": {},
   "source": [
    "---"
   ]
  },
  {
   "cell_type": "markdown",
   "metadata": {},
   "source": [
    "### 3.2. Función busca_usuario_mas_parecido\n",
    "Ya tenemos una función que nos permite medir cómo de parecidos son dos usuarios cualesquiera. Usando esta función, podemos decidir qué usuario se parece más a uno determinado. Esto es precisamente lo que debe hacer la función **busca_usuario_mas_parecido**. \n",
    "\n",
    "**Truco**: la función predefinida **max** devuelve el máximo de una lista. Si quieres que los elementos de la lista se comparen entre sí de una manera determinada, usar el parámetro **key**. Es posible que para usar este parámetro debas escribir una expresión **lambda**. Si no sabes lo que es, aquí tienes algo de información: https://docs.python.org/3/tutorial/controlflow.html#lambda-expressions"
   ]
  },
  {
   "cell_type": "code",
   "execution_count": null,
   "metadata": {
    "collapsed": true
   },
   "outputs": [],
   "source": [
    "def busca_usuario_mas_parecido(usuario, puntuaciones):\n",
    "    '''\n",
    "    Recibe:    \n",
    "    - El identificador de un usuario incluido en el diccionario anterior.\n",
    "    - Un diccionario en el que las claves son los identificadores\n",
    "    de los usuarios del sistema, y los valores asociados son las listas\n",
    "    de puntuaciones a películas.\n",
    "\n",
    "\n",
    "    Devuelve el usuario más parecido al indicado, según sus preferencias.\n",
    "    El cálculo del usuario más parecido se hace utilizando la similitud\n",
    "    del coseno entre los vectores definidos por las listas de puntuaciones\n",
    "    de películas de los usuarios.\n",
    "    '''\n",
    "        \n",
    "    pass # Elimina esta instrucción"
   ]
  },
  {
   "cell_type": "code",
   "execution_count": null,
   "metadata": {
    "collapsed": true
   },
   "outputs": [],
   "source": [
    "# Probemos la función anterior\n",
    "usuario_mas_parecido = busca_usuario_mas_parecido(2, puntuaciones)\n",
    "muestra_puntuaciones_comunes(2,usuario_mas_parecido,puntuaciones,peliculas)"
   ]
  },
  {
   "cell_type": "markdown",
   "metadata": {},
   "source": [
    "## 4. Funciones de recomendación "
   ]
  },
  {
   "cell_type": "markdown",
   "metadata": {},
   "source": [
    "Ya tenemos todo lo necesario para poder hacer recomendaciones de películas a un usuario *u*. Lo vamos a hacer de la siguiente manera:\n",
    "* Buscaremos al usuario más parecido a *u*. Lo podemos llamar *u'*.\n",
    "* Construiremos un conjunto con aquellas películas puntuadas por el usuario *u'* con una buena nota (por ejemplo, al menos un 3) y que no hayan sido vistas por *u* (o, al menos, que no las haya puntuado; que haya visto más películas de las que ha puntuado es algo que no podemos saber...).\n",
    "\n",
    "Es decir, le recomendaremos a un usuario aquellas películas que otro usuario, cuyos gustos se parecen mucho a los suyos, ha visto y ha puntuado con buena nota. \n",
    "\n",
    "Completa la definición de la función **muestra_recomendaciones_simple**. "
   ]
  },
  {
   "cell_type": "code",
   "execution_count": null,
   "metadata": {
    "collapsed": true
   },
   "outputs": [],
   "source": [
    "def muestra_recomendaciones_simple(usuario, puntuaciones, peliculas, umbral_recomendacion=3.0):\n",
    "    '''\n",
    "    Muestra las películas recomendadas para el usuario. Para realizar el cálculo, \n",
    "    se basa en las películas puntuadas por el usuario más parecido. \n",
    "    \n",
    "    Las películas recomendadas serán aquellas puntuadas con 3 o más puntuación\n",
    "    por el usuario más parecido, que no hayan sido vistas por el usuario\n",
    "    al que se le hace la recomendación. El valor umbral puede ser modificado\n",
    "    mediante el parámetro umbral_recomendacion.\n",
    "    \n",
    "    Recibe el identificador de un usuario, el diccionario de \n",
    "    puntuaciones {usuario:[(pelicula,puntuacion)]}\n",
    "    , el diccionario de películas {identificador:titulo} y \n",
    "    el radio de búsqueda, es decir, el número de usuarios parecidos\n",
    "    que se utilizarán para elegir las películas a recomendar.\n",
    "    \n",
    "    Ejemplo de salida por consola:\n",
    "    Películas recomendadas para el usuario 2\n",
    "        Shawshank Redemption, The (1994)\n",
    "        Don Juan DeMarco (1995)\n",
    "        Jumanji (1995)\n",
    "     ...\n",
    "    '''\n",
    "    \n",
    "    pass # Elimina esta instrucción"
   ]
  },
  {
   "cell_type": "code",
   "execution_count": null,
   "metadata": {
    "collapsed": true
   },
   "outputs": [],
   "source": [
    "# Probemos la función anterior\n",
    "muestra_recomendaciones_simple(2,puntuaciones,peliculas)"
   ]
  },
  {
   "cell_type": "markdown",
   "metadata": {},
   "source": [
    "<span style=\"color:blue;font-weight:bold\"> ֍ EJERCICIO AVANZADO 2</span>"
   ]
  },
  {
   "cell_type": "markdown",
   "metadata": {},
   "source": [
    "Una posible mejora del algoritmo de recomendación consiste en basarse no sólo en el usuario más parecido, sino en los *n* usuarios más parecidos. En dicho caso, la recomendación consistiría en las películas que hayan sido puntuadas con buena nota por esos *n* usuarios (por **todos** ellos), y que no hayan sido puntuadas por el usuario al que se le hace la recomendación.\n",
    "\n",
    "¿Serías capaz de implementar este algoritmo?"
   ]
  },
  {
   "cell_type": "code",
   "execution_count": null,
   "metadata": {
    "collapsed": true
   },
   "outputs": [],
   "source": [
    "def muestra_recomendaciones(usuario, puntuaciones, peliculas, radio=2, umbral_recomendacion=3.0):\n",
    "    '''\n",
    "    Muestra las películas recomendadas para el usuario. Para realizar el cálculo, \n",
    "    se basa en las películas puntuadas por los usuarios más parecidos. \n",
    "    \n",
    "    Las películas recomendadas serán aquellas puntuadas con 3 o más puntuación\n",
    "    por los usuarios más parecidos, que no hayan sido vistas por el usuario\n",
    "    al que se le hace la recomendación. El valor umbral puede ser modificado\n",
    "    mediante el parámetro \"umbral_recomendacion\". El número de usuarios en los \n",
    "    que se basa la recomendación también puede ser configurado mediante el\n",
    "    parámetro \"radio\".\n",
    "    \n",
    "    Recibe el identificador de un usuario, el diccionario de \n",
    "    puntuaciones {usuario:[(pelicula,puntuacion)]}\n",
    "    , el diccionario de películas {identificador:titulo} y \n",
    "    el radio de búsqueda, es decir, el número de usuarios parecidos\n",
    "    que se utilizarán para elegir las películas a recomendar.\n",
    "    \n",
    "    Ejemplo de salida por consola:\n",
    "    Películas recomendadas para el usuario 2\n",
    "     Star Wars: Episode I - The Phantom Menace (1999)\n",
    "     Indiana Jones and the Last Crusade (1989)\n",
    "     Star Wars: Episode V - The Empire Strikes Back (1980)\n",
    "     ...\n",
    "    '''\n",
    "    \n",
    "    pass # Elimina esta instrucción"
   ]
  },
  {
   "cell_type": "code",
   "execution_count": null,
   "metadata": {
    "collapsed": true
   },
   "outputs": [],
   "source": [
    "# Probemos la función anterior\n",
    "muestra_recomendaciones(2,puntuaciones,peliculas,3)"
   ]
  },
  {
   "cell_type": "markdown",
   "metadata": {},
   "source": [
    "---"
   ]
  },
  {
   "cell_type": "markdown",
   "metadata": {},
   "source": [
    "## 5. ¿No sabes qué peli ver? "
   ]
  },
  {
   "cell_type": "markdown",
   "metadata": {},
   "source": [
    "Vamos a intentar generar unas recomendaciones personalizadas a tus gustos. Para ello, necesitamos introducirte en el sistema con algunas puntuaciones.\n",
    "\n",
    "La ejecución del siguiente código te mostrará las 50 películas que más veces aparecen puntuadas (bien o mal) en los datos de los que partimos."
   ]
  },
  {
   "cell_type": "code",
   "execution_count": null,
   "metadata": {
    "collapsed": true
   },
   "outputs": [],
   "source": [
    "from collections import Counter\n",
    "conteo = Counter([pelicula for lista in puntuaciones.values() for pelicula, puntuacion in lista])\n",
    "print(\"Las 50 películas más vista por los usuarios del sistema:\")\n",
    "\n",
    "for id, puntuacion in sorted(conteo.most_common(50), key=lambda t:t[0]):\n",
    "    print(id,peliculas[id],sep=': ')"
   ]
  },
  {
   "cell_type": "markdown",
   "metadata": {},
   "source": [
    "Lo que tienes que hacer ahora es escoger algunas películas de la lista que hayas visto y otorgarles una puntuación de 1 a 5. Pongamos que te asignamos el identificador de usuario *999*. \n",
    "\n",
    "Completa con tus valoraciones la lista de abajo y ejecuta el código para obtener tus recomendaciones personalizadas. Recuerda que para cada valoración debes añadir una tupla formada por el identificador numérico de la película (un número entero) y la puntuación que quieres darle (un número real)."
   ]
  },
  {
   "cell_type": "code",
   "execution_count": null,
   "metadata": {
    "collapsed": true
   },
   "outputs": [],
   "source": [
    "puntuaciones[999] = []\n",
    "muestra_recomendaciones_simple(999,puntuaciones,peliculas)"
   ]
  },
  {
   "cell_type": "markdown",
   "metadata": {},
   "source": [
    "<span style=\"color:blue;font-weight:bold\"> ֍ EJERCICIO AVANZADO 3</span>"
   ]
  },
  {
   "cell_type": "markdown",
   "metadata": {},
   "source": [
    "Como habrás observado, el procedimiento que hemos seguido para obtener tus recomendaciones personalizadas no es muy cómodo... Te proponemos que implementes un programa más cómodo para el usuario, que funcione de la siguiente manera:\n",
    "\n",
    "* Escoger las 200 películas más vistas.\n",
    "* Mostrar una aleatoriamente al usuario, y preguntarle por una puntuación (el usuario introducirá un cero si no la ha visto).\n",
    "* Repetir el proceso hasta tener un número determinado de películas con valoraciones.\n",
    "* Realizar las recomendaciones de películas al usuario basadas en estas valoraciones.\n",
    "\n",
    "Para llevar a cabo este ejercicio vas a necesitar buscar información sobre cómo realizar algunas tareas:\n",
    "* ¿Cómo seleccionar aleatoriamente elementos de una lista? (https://docs.python.org/3/library/random.html)\n",
    "* ¿Cómo leer desde el teclado valores de tipo numérico y almacenarlos en variables? (https://docs.python.org/3/library/functions.html#input)\n"
   ]
  },
  {
   "cell_type": "code",
   "execution_count": null,
   "metadata": {
    "collapsed": true
   },
   "outputs": [],
   "source": []
  }
 ],
 "metadata": {
  "anaconda-cloud": {},
  "kernelspec": {
   "display_name": "Python 3",
   "language": "python",
   "name": "python3"
  },
  "language_info": {
   "codemirror_mode": {
    "name": "ipython",
    "version": 3
   },
   "file_extension": ".py",
   "mimetype": "text/x-python",
   "name": "python",
   "nbconvert_exporter": "python",
   "pygments_lexer": "ipython3",
   "version": "3.6.1"
  }
 },
 "nbformat": 4,
 "nbformat_minor": 1
}
