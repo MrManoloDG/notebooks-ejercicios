{
 "cells": [
  {
   "cell_type": "markdown",
   "metadata": {},
   "source": [
    "# Ejercicio: ATP. Comparación de rankings\n",
    "**Autor**: Miguel Toro, José A. Troyano.      **Revisor**: Fermín Cruz     **Última modificación:** 20/12/2017"
   ]
  },
  {
   "cell_type": "markdown",
   "metadata": {},
   "source": [
    "En este ejercicio trabajaremos con distintas funciones de manipulación\n",
    "y comparación de rankings. Los rankings son listas de ítems ordenados por\n",
    "algún criterio. Hay rankings de muchos tipos: de música, de películas, de\n",
    "audiencias, deportivos, de resultados de búsqueda, ... \n",
    "\n",
    "Usaremos datos de uno de los rankings más conocidos\n",
    "del ámbito deportivo: el ranking de la ATP (Asociación de Tenistas\n",
    "Profesionales) que se actualiza semana a semana sobre los resultados del\n",
    "último año de competición.\n",
    "\n",
    "A partir de los datos implementaremos una serie de funciones de consulta y\n",
    "visualización que nos permitirán realizar un análisis de los datos de entrada.\n",
    "La comparación de rankings la realizaremos  con dos métricas relacionadas con el\n",
    "test estadístico _Tau de Kendall_:\n",
    "- Correlación de Kendall: mide el grado de similitud entre dos rankings\n",
    "- Distancia de Kendall: una métrica, en cierto modo complementaria a la anterior,\n",
    "  que mide la diferencia entre dos rankings\n",
    "     \n",
    "Como siempre, antes de empezar, importaremos los módulos que utilizaremos en el resto del ejercicio:"
   ]
  },
  {
   "cell_type": "code",
   "execution_count": null,
   "metadata": {
    "collapsed": true
   },
   "outputs": [],
   "source": [
    "import csv\n",
    "import sys\n",
    "from collections import defaultdict\n",
    "from matplotlib import pyplot as plt"
   ]
  },
  {
   "cell_type": "markdown",
   "metadata": {},
   "source": [
    "## 1. Carga de datos"
   ]
  },
  {
   "cell_type": "markdown",
   "metadata": {},
   "source": [
    "Dispondremos del TOP-25 del ranking ATP desde la temporada 2008 hasta la 2017.\n",
    "Por cada temporada tendremos un fichero CSV con los 25 mejores jugadores de\n",
    "la temporada. Todos los ficheros estarán en la carpeta <code>/csv</code>. En los\n",
    "ficheros habrá una línea por cada jugador con su nombre y la puntuación de\n",
    "la temporada. El orden en el que aparecen los jugadores se corresponderá con\n",
    "su posición en el ranking. Este es el fragmento inicial correspondiente al\n",
    "ranking de 2008:\n",
    "\n",
    "    Rafael Nadal,6675\n",
    "    Roger Federer,5305\n",
    "    Novak Djokovic,5295\n",
    "    Andy Murray,3720\n",
    "    Nikolay Davydenko,2715\n",
    "\n",
    "\n",
    "La siguiente función será la encargada de leer un fichero correspondiente a una temporada, y construir a partir de él una estructura de datos en memoria:"
   ]
  },
  {
   "cell_type": "code",
   "execution_count": null,
   "metadata": {
    "collapsed": true
   },
   "outputs": [],
   "source": [
    "def lee_temporada(temporada, ruta='./csv/', prefijo='TOP25-ATP-',\n",
    "                  extension='.csv'):\n",
    "    ''' Lee el fichero de una temporada y devuelve un ranking de jugadores\n",
    "\n",
    "    Toma como entrada el año de la temporada y tres parámetros más que permiten\n",
    "    componer el nombre completo del fichero:\n",
    "    - ruta: carpeta en la que se encuentra el fichero\n",
    "    - prefijo: a anteponer a la temporada para obtener el nombre del fichero\n",
    "    - extension: por defecto es '.csv'\n",
    "    En los ficheros de entrada hay una línea para cada jugador con sus dos\n",
    "    informaciones (nombre y puntos). Usaremos el módulo csv de la librería\n",
    "    estándar de Python para leer los ficheros de entrada.\n",
    "    También hay que realizar un pequeño procesamiento con los puntos. Hay que\n",
    "    pasar del formato cadena (que es lo que se interpreta al leer el csv) a un\n",
    "    valor numérico (para poder aplicar operaciones matemáticas si fuese\n",
    "    necesario).\n",
    "    La salida será una lista de tuplas, una por cada jugador.\n",
    "    '''\n",
    "    pass"
   ]
  },
  {
   "cell_type": "code",
   "execution_count": null,
   "metadata": {},
   "outputs": [],
   "source": [
    "# Test de la función lee_temporada\n",
    "ranking_2008 = lee_temporada(2008)\n",
    "print(ranking_2008)"
   ]
  },
  {
   "cell_type": "markdown",
   "metadata": {},
   "source": [
    "Apoyándonos en la función <code>lee_temporada</code> implementaremos la función <code>lee_temporadas</code> que lee todos los ficheros <code>CSV</code> que encuentre en la carpeta que recibe como parámetro. La salida de esta función será un diccionario en el que las claves son las temporadas y los valores son los correspondientes rankings:"
   ]
  },
  {
   "cell_type": "code",
   "execution_count": null,
   "metadata": {
    "collapsed": true
   },
   "outputs": [],
   "source": [
    "def lee_temporadas(temporadas, ruta='./csv/', prefijo='TOP25-ATP-',\n",
    "                   extension='.csv'):\n",
    "    ''' Lee todas las temporadas y devuelve un diccionario de rankings\n",
    "\n",
    "    Toma como entrada una secuencias con los años de varias temporadas y los\n",
    "    mismos parámetros usados en la función lee_temporada para construir los nombres\n",
    "    de ficheros.\n",
    "    Produce como salida un diccionario en el que las claves son las temporadas\n",
    "    y los valores son los rankings correspondientes a dichas temporadas.\n",
    "    '''\n",
    "    pass"
   ]
  },
  {
   "cell_type": "code",
   "execution_count": null,
   "metadata": {},
   "outputs": [],
   "source": [
    "# Test de la función lee_temporadas\n",
    "temporadas = range(2008, 2018)\n",
    "rankings = lee_temporadas(temporadas)\n",
    "for anyo in rankings:\n",
    "    print (\"Temporada {}:{}...\".format(anyo, rankings[anyo][:3]))"
   ]
  },
  {
   "cell_type": "markdown",
   "metadata": {},
   "source": [
    "## 2. Funciones de consulta"
   ]
  },
  {
   "cell_type": "markdown",
   "metadata": {},
   "source": [
    "En esta sección veremos una serie de funciones que nos permitirán filtrar y extraer informaciones de la estructura de datos que estamos manejando para representar los partidos (una lista de tuplas). Utilizaremos estas funciones de _consulta_ en distintos puntos del resto del ejercicio.\n",
    "\n",
    "Las primera función de este tipo es <code>jugadores</code>. Producirá un conjunto con los nombres de los jugadores que han aparecido al menos una vez en uno de los rankings que recibe como parámetro:"
   ]
  },
  {
   "cell_type": "code",
   "execution_count": null,
   "metadata": {
    "collapsed": true
   },
   "outputs": [],
   "source": [
    "def jugadores(rankings):\n",
    "    ''' Jugadores presentes en una lista de rankings\n",
    "\n",
    "    Toma como entrada un diccionario cuyas claves son temporadas y sus\n",
    "    valores rankings (lista de tuplas (jugador, puntos)).\n",
    "    Produce como salida el conjunto de jugadores presentes en alguno de esos rankings.\n",
    "    '''\n",
    "    pass"
   ]
  },
  {
   "cell_type": "code",
   "execution_count": null,
   "metadata": {},
   "outputs": [],
   "source": [
    "# Test de la función jugadores\n",
    "nombres = jugadores(rankings)\n",
    "print(nombres)"
   ]
  },
  {
   "cell_type": "markdown",
   "metadata": {},
   "source": [
    "Con la estructura que tenemos ahora para los rankings (listas de tuplas jugador-puntos) es muy cómodo acceder a la información de un ranking por la posición de los jugadores. Sin embargo, en algunas ocasiones necesitaremos acceder al ranking a partir del nombre de un jugador. Para ello nos será muy útil disponer de una estructura en la que el nombre de los jugadores sea el punto de acceso. La función <code>ranking2dict</code> nos proporciona esta estructura al construir un ranking en _formato diccionario_ en el que las claves son nombres de jugadores:"
   ]
  },
  {
   "cell_type": "code",
   "execution_count": null,
   "metadata": {
    "collapsed": true
   },
   "outputs": [],
   "source": [
    "def ranking2dict(ranking):\n",
    "    ''' Convierte un ranking (lista de tuplas) en un diccionario\n",
    "\n",
    "    Toma como entrada un ranking en forma de lista de tuplas (jugador, puntos).\n",
    "    Produce como salida un diccionario cuyas claves son los nombres de los\n",
    "    jugadores y los valores tuplas (posición, puntos).\n",
    "    '''\n",
    "    pass"
   ]
  },
  {
   "cell_type": "code",
   "execution_count": null,
   "metadata": {},
   "outputs": [],
   "source": [
    "# Test de la función ranking_dict\n",
    "ranking_dict_2008 = ranking2dict(ranking_2008)\n",
    "print(ranking_dict_2008)"
   ]
  },
  {
   "cell_type": "markdown",
   "metadata": {},
   "source": [
    "Si un jugador aparece en un ranking diremos que hay una _entrada de ese jugador_ en el ranking. Con la función <code>entradas_jugadores</code> vamos a construir una estructura en la que se agrupen todas las apariciones de un jugador en una serie de rankings. Esta función nos servirá, más adelante, para generar gráficas que muestren la evolución de los jugadores a lo largo del tiempo: "
   ]
  },
  {
   "cell_type": "code",
   "execution_count": null,
   "metadata": {
    "collapsed": true
   },
   "outputs": [],
   "source": [
    "def entradas_jugadores(rankings):\n",
    "    ''' Entradas de cada jugador en todos los rankings\n",
    "\n",
    "    Toma como entrada un diccionario cuyas claves son temporadas y sus\n",
    "    valores rankings (lista de tuplas (jugador, puntos)).\n",
    "    Produce como salida un diccionario en el que a cada jugador se le asocia\n",
    "    una diccionario con las siguentes claves y valores:\n",
    "       - clave: temporada\n",
    "       - valor: tupla (puesto, puntos) ocupado en la correspondiente temporada\n",
    "    Podremos inicializar ese 'diccionario de diccionarios' con la función\n",
    "    'defaultdict' del módulo 'collections' de la librería estándar de Python.\n",
    "    La instrucción que construye un diccionario de diccionarios vacío es:\n",
    "    \n",
    "        entradas = defaultdict(dict)\n",
    "    '''\n",
    "    pass"
   ]
  },
  {
   "cell_type": "code",
   "execution_count": null,
   "metadata": {},
   "outputs": [],
   "source": [
    "# Test de la función entradas_jugadores\n",
    "entradas = entradas_jugadores(rankings)\n",
    "for jugador in list(entradas.keys())[:3]:\n",
    "    print (\"{}:\\n{}\\n\".format(jugador, entradas[jugador]))"
   ]
  },
  {
   "cell_type": "markdown",
   "metadata": {},
   "source": [
    "La última función de consulta (<code>posiciones_historicas</code>) agregará los distintos resultados de cada jugador para calcular la posición media en el conjunto de sus apariciones en los diferentes rankings de los que se tienen datos:"
   ]
  },
  {
   "cell_type": "code",
   "execution_count": null,
   "metadata": {
    "collapsed": true
   },
   "outputs": [],
   "source": [
    "def posiciones_historicas(rankings):\n",
    "    ''' Media de las entradas de cada jugador en todos los rankings\n",
    "\n",
    "    Toma como entrada un diccionario cuyas claves son temporadas y sus\n",
    "    valores rankings (lista de tuplas (jugador, puntos)).\n",
    "    Produce como salida una lista de tuplas (posición-media, jugador) ordenada\n",
    "    de menor a mayor por posición.\n",
    "    '''\n",
    "    pass"
   ]
  },
  {
   "cell_type": "code",
   "execution_count": null,
   "metadata": {},
   "outputs": [],
   "source": [
    "# Test de la función posiciones_historicas\n",
    "posiciones = posiciones_historicas(rankings)\n",
    "print(posiciones)"
   ]
  },
  {
   "cell_type": "markdown",
   "metadata": {
    "collapsed": true
   },
   "source": [
    "## 3. Funciones de visualización"
   ]
  },
  {
   "cell_type": "markdown",
   "metadata": {},
   "source": [
    "La primera función de visualización generará una gráfica en la que se mostrará la evolución de varios jugadores a lo largo del tiempo. Tomará como entrada un diccionario de rankings y una lista de jugadores, y producirá una curva por cada jugador con los puestos que ha ocupado a lo largo de los años:\n"
   ]
  },
  {
   "cell_type": "code",
   "execution_count": null,
   "metadata": {
    "collapsed": true
   },
   "outputs": [],
   "source": [
    "def evolucion_jugadores(jugadores, rankings):\n",
    "    ''' Gráfica con la evolución de los jugadores\n",
    "\n",
    "    Toma como entrada una lista de nombres de jugadores y un diccionario\n",
    "    cuyas claves son temporadas y sus valores rankings (lista de tuplas\n",
    "    (jugador, puntos)).\n",
    "    Produce como salida una gráfica con una línea por cada jugador con\n",
    "    los puestos que ha ocupado en las distintas temporadas. En el caso\n",
    "    de que un jugador no aparezca en el ranking de una temporada se le\n",
    "    asignará un puesto más del último de los que aparezcan en todos los\n",
    "    rankings.\n",
    "    Seguiremos el siguiente procedimiento:\n",
    "       - Construir una lista colores con diez nombres de colores admitidos\n",
    "         por matplotlib\n",
    "       - Calcular la lista de temporadas a partir del diccionario rankings\n",
    "       - Calcular el tamaño máximo de los rankings recibidos como parámetros\n",
    "         y guardarlo en la variable tam_ranking\n",
    "       - Usar la función 'entradas_jugadores' para calcular las entradas de\n",
    "         todos los jugadores en todos los rankings. Completar las temporadas\n",
    "         en las que los jugadores no aparecen en el ranking con la tupla\n",
    "         (tam_ranking+1, 0) para el puesto y los puntos, respectivamente.\n",
    "       - Iterar sobre la lista de jugadores y colores para trazar una curva de\n",
    "         un color distinto para cada jugador. Calcularemos para cada jugador\n",
    "         la lista de puestos que ha ocupado y trazaremos la curva con la\n",
    "         siguiente instrucción:\n",
    "                 plt.plot(temporadas, puestos, label=j, color=c)\n",
    "       - Para generar la leyenda e invertir el eje Y (para que los primeros\n",
    "         puestos aparezcan en la parte alta de la gráfica) finalizaremos con\n",
    "         las siguientes instrucciones:\n",
    "                 ax = plt.gca()\n",
    "                 ax.invert_yaxis()\n",
    "                 plt.legend()\n",
    "                 plt.show()\n",
    "    '''\n",
    "    pass"
   ]
  },
  {
   "cell_type": "code",
   "execution_count": null,
   "metadata": {},
   "outputs": [],
   "source": [
    "# Test de la función evolucion_jugadores\n",
    "nombres = ['Rafael Nadal', 'Roger Federer', 'Novak Djokovic']\n",
    "evolucion_jugadores(nombres, rankings)"
   ]
  },
  {
   "cell_type": "markdown",
   "metadata": {},
   "source": [
    "La función <code>evolucion_top_jugadores</code> se apoya en la función anterior e incluye un filtro que permite seleccionar el segmento de jugadores a visualizar. El filtro se basa en el orden producido por la función <code>posiciones_historicas</code>. Es posible, por ejemplo, comparar los jugadores con mejores resultados históricos, o bien aquellos que ocupan una posición intermedia en el ranking histórico: "
   ]
  },
  {
   "cell_type": "code",
   "execution_count": null,
   "metadata": {
    "collapsed": true
   },
   "outputs": [],
   "source": [
    "def evolucion_top_jugadores(rankings, inicio=None, fin=None):\n",
    "    ''' Gráfica con la evolución de jugadores según puestos\n",
    "\n",
    "    Toma como entrada un diccionario cuyas claves son temporadas y sus\n",
    "    valores rankings (lista de tuplas (jugador, puntos)), y dos valores\n",
    "    inicio y fin que servirán para determinar el rango de jugadores a mostrar\n",
    "    en la gráfica.\n",
    "    Los jugadores a mostrar en la gráfica serán aquellos que se encuentran\n",
    "    entre las posiciones inicio y fin del ranking histórico calculado con la\n",
    "    fución posiciones_historicas:\n",
    "      - Si inicio es None se comenzará desde la posición 1\n",
    "      - Si fin es None se continuará hasta el último jugador\n",
    "    Hay que tener en cuenta que los parámetros inicio y fin van de 1 a N,\n",
    "    mientras que los índices de las listas empiezan con 0.\n",
    "    El procedimiento a seguir será el siguiente:\n",
    "      - Recalcular los valores apropiados para inicio y fin\n",
    "      - Llamar a la función posiciones_historicas y calcular la lista de\n",
    "        nombres de jugadores a mostrar\n",
    "      - Llamar a la función evolucion_jugadores para generar la gráfica\n",
    "    '''\n",
    "    pass"
   ]
  },
  {
   "cell_type": "code",
   "execution_count": null,
   "metadata": {},
   "outputs": [],
   "source": [
    "# Test de la función evolucion_top_jugadores\n",
    "evolucion_top_jugadores(rankings, fin=6)                 # Los 6 mejores del ranking histórico\n",
    "evolucion_top_jugadores(rankings, inicio=6, fin=8)       # Del 6 al 8 en el ranking histórico"
   ]
  },
  {
   "cell_type": "markdown",
   "metadata": {},
   "source": [
    "La función <code>records_puntuación</code> genera un diagrama de barras en el que se muestran, ordenadas de mayor a menor, las mejores entradas en los distintos rankings en función de los puntos obtenidos por los jugadores. Recibe como parámetros un diccionario de rankings y un límite de barras a mostrar:"
   ]
  },
  {
   "cell_type": "code",
   "execution_count": null,
   "metadata": {
    "collapsed": true
   },
   "outputs": [],
   "source": [
    "def records_puntuacion(rankings, n=10):\n",
    "    ''' Gráfica con los mejores registros en puntos\n",
    "\n",
    "    Toma como entrada un diccionario cuyas claves son temporadas y sus\n",
    "    valores rankings (lista de tuplas (jugador, puntos)).\n",
    "    Genera una gráfica de barras con los n mejores registros en puntos\n",
    "    (por defecto n=10).\n",
    "    Seguiremos el siguiente procedimiento:\n",
    "       - Construir una lista con las entradas de todos los rankings\n",
    "       - Construir a partir de la lista anterior una nueva lista de tuplas\n",
    "         (puntos, jugador), ordenarla de mayor a menor y extraer las primeras\n",
    "         n tuplas.\n",
    "       - A partir de esta lista de tuplas obtener dos listas con los puntos\n",
    "         y los nombres\n",
    "    Una vez tengamos las listas de puntos y nombres, podremos generar la\n",
    "    gráfica con las siguientes instrucciones:\n",
    "            indices = range(len(nombres))\n",
    "            plt.bar(indices, puntos)\n",
    "            plt.xticks(indices, nombres, rotation=80, fontsize=8)\n",
    "            plt.show()\n",
    "    '''\n",
    "    pass"
   ]
  },
  {
   "cell_type": "code",
   "execution_count": null,
   "metadata": {},
   "outputs": [],
   "source": [
    "# Test de la función records_puntuacion\n",
    "records_puntuacion(rankings, n=12)"
   ]
  },
  {
   "cell_type": "markdown",
   "metadata": {},
   "source": [
    "## 4. Comparación de rankings"
   ]
  },
  {
   "cell_type": "markdown",
   "metadata": {},
   "source": [
    "En esta sección usaremos una serie de funciones para implementar un procedimiento de comparación de rankings. El núcleo de este procedimiento será una métrica derivada del test de hipótesis no paramétrico de Kendall. "
   ]
  },
  {
   "cell_type": "markdown",
   "metadata": {},
   "source": [
    "### 4.1 Representación vectorial de rankings"
   ]
  },
  {
   "cell_type": "markdown",
   "metadata": {},
   "source": [
    "Lo primero que necesitaremos para poder comparar los rankings es una representación vectorial de los mismos. En esta representación, cada posición de los vectores se asociará a un jugador, y el valor que se registrará en esa posición será el puesto que dicho jugador ocupa en el ranking."
   ]
  },
  {
   "cell_type": "code",
   "execution_count": null,
   "metadata": {
    "collapsed": true
   },
   "outputs": [],
   "source": [
    "def calcula_vector_posiciones(nombres, ranking):\n",
    "    ''' Obtiene un vector de posiciones alineado con una lista de nombres\n",
    "\n",
    "    Toma como entrada una lista de nombres y un ranking (lista de tuplas\n",
    "    (jugador, puntos)).\n",
    "    Produce como salida un vector con tantas posiciones como elementos haya en\n",
    "    la lista de nombres. La posición correspondiente a cada nombre de ese\n",
    "    vector contendrá el puesto de ese jugador en el ranking. En caso de que el\n",
    "    jugador no aparezca en el ranking se reflejará con el valor 'sys.maxsize'. \n",
    "    '''\n",
    "    pass"
   ]
  },
  {
   "cell_type": "code",
   "execution_count": null,
   "metadata": {},
   "outputs": [],
   "source": [
    "# Test de la calcula_vector_posiciones\n",
    "nombres = ['David Goffin', 'Roger Federer', 'Novak Djokovic', 'Rafael Nadal']\n",
    "vector_posiciones = calcula_vector_posiciones(nombres, ranking_2008)\n",
    "print(vector_posiciones)"
   ]
  },
  {
   "cell_type": "markdown",
   "metadata": {},
   "source": [
    "### 4.2 Cálculo de parejas concordantes y discordantes"
   ]
  },
  {
   "cell_type": "markdown",
   "metadata": {},
   "source": [
    "Una vez que tenemos una representación vectorial de los rankings ya estamos en disposición de compararlos. Básicamente lo que haremos será contabilizar concordancias y discordancias:\n",
    "- Diremos que dos rankings _r1_ y _r2_ son concordantes con respecto a dos jugadores _j1_ y _j2_ si los dos jugadores mantienen la misma relación de orden en ambos rankings.\n",
    "- Diremos que dos rankings _r1_ y _r2_ son discordantes con respecto a dos jugadores _j1_ y _j2_ si los dos jugadores mantienen distintas relaciones de orden en ambos rankings.\n",
    "\n",
    "Ambas relaciones se implementan, respectivamente, con las funciones <code>concordante</code> y <code>discordante</code>. Estas funciones toman como parámetros los vectores de posición de dos rankings y las posiciones _i_ y _j_ correspondientes a los jugadores que se usan en la comparación."
   ]
  },
  {
   "cell_type": "code",
   "execution_count": null,
   "metadata": {
    "collapsed": true
   },
   "outputs": [],
   "source": [
    "def concordante(vpos1, vpos2, i, j):\n",
    "    ''' Determina si una pareja de índices son concordantes en dos rankings\n",
    "\n",
    "    Toma como entrada dos vectores de posición (del mismo tamaño) calculados a\n",
    "    partir de sendos rankings, y dos índices.\n",
    "    Produce como salida el siguiente valor booleano:\n",
    "    - True: si i y j ocupan distintas posiciones relativas en ambos rankings\n",
    "    - False: si i y j ocupan las mismas posiciones relativas en ambos rankings\n",
    "    '''\n",
    "    pass"
   ]
  },
  {
   "cell_type": "code",
   "execution_count": null,
   "metadata": {},
   "outputs": [],
   "source": [
    "# Test de la función concordante\n",
    "vector_pos1 = [10, 11, 12, 13]\n",
    "vector_pos2 = [13, 10, 11, 12]\n",
    "print(concordante(vector_pos1, vector_pos2, 1, 2)) # Cierto: 11>12 and 10>11\n",
    "print(concordante(vector_pos1, vector_pos2, 0, 1)) # Falso:  10<11 and 13>10"
   ]
  },
  {
   "cell_type": "code",
   "execution_count": null,
   "metadata": {
    "collapsed": true
   },
   "outputs": [],
   "source": [
    "def discordante(vpos1, vpos2, i, j):\n",
    "    ''' Determina si una pareja de índices son discordantes en dos rankings\n",
    "\n",
    "    Toma como entrada dos vectores de posición (del mismo tamaño) calculados a\n",
    "    partir de sendos rankings, y dos índices.\n",
    "    Produce como salida el siguiente valor booleano:\n",
    "    - True: si i y j ocupan las mismas posiciones relativas en ambos rankings\n",
    "    - False: si i y j ocupan distintas posiciones relativas en ambos rankings\n",
    "    '''\n",
    "    pass"
   ]
  },
  {
   "cell_type": "code",
   "execution_count": null,
   "metadata": {},
   "outputs": [],
   "source": [
    "# Test de la función discordante\n",
    "vector_pos1 = [10, 11, 12, 13]\n",
    "vector_pos2 = [13, 10, 11, 12]\n",
    "print(discordante(vector_pos1, vector_pos2, 1, 2)) # Falso: 11>12 and 10>11\n",
    "print(discordante(vector_pos1, vector_pos2, 0, 1)) # Cierto:  10<11 and 13>10"
   ]
  },
  {
   "cell_type": "markdown",
   "metadata": {},
   "source": [
    "Las métricas de Kendall se basan en contar el número de pares concordantes y discordantes entre dos rankings. Para poder calcular ambas cuentas implementaremos la función <code>parejas</code> que, generará todas las parejas de índices posibles, y usará las funciones <code>concordante</code> y <code>discordante</code> para evaluar cada una de las dos condiciones."
   ]
  },
  {
   "cell_type": "code",
   "execution_count": null,
   "metadata": {
    "collapsed": true
   },
   "outputs": [],
   "source": [
    "def parejas(vpos1, vpos2, condicion):\n",
    "    ''' Conjunto de índices de dos rankings que cumplen una condición\n",
    "\n",
    "    Toma como entrada dos vectores de posición (del mismo tamaño) calculados a\n",
    "    partir de sendos rankings, y una función para evaluar la condición.\n",
    "    Produce como salida la lista de parejas de índices que cumplen la\n",
    "    condición. Se evitarán parejas repetidas (por ejemplo (1, 2) y (2, 1) y\n",
    "    también las compuestas por el mismo índice (como (1, 1)).\n",
    "    '''\n",
    "    pass"
   ]
  },
  {
   "cell_type": "code",
   "execution_count": null,
   "metadata": {},
   "outputs": [],
   "source": [
    "# Test de la función parejas (todas concordantes)\n",
    "vector_pos1 = [10, 11, 12, 13]\n",
    "vector_pos2 = [18, 19, 20, 21]\n",
    "print(parejas(vector_pos1, vector_pos2, concordante))\n",
    "print(parejas(vector_pos1, vector_pos2, discordante))\n",
    "\n",
    "# Test de la función parejas (todas discordantes)\n",
    "vector_pos1 = [10, 11, 12, 13]\n",
    "vector_pos2 = [9, 8, 7, 6]\n",
    "print(parejas(vector_pos1, vector_pos2, concordante))\n",
    "print(parejas(vector_pos1, vector_pos2, discordante))\n",
    "\n",
    "# Test de la función parejas (algunas concordantes y otras discordantes)\n",
    "vector_pos1 = [10, 11, 12, 13]\n",
    "vector_pos2 = [13, 10, 11, 12]\n",
    "print(parejas(vector_pos1, vector_pos2, concordante))\n",
    "print(parejas(vector_pos1, vector_pos2, discordante))"
   ]
  },
  {
   "cell_type": "markdown",
   "metadata": {},
   "source": [
    "### 4.3 Similitud y distancia según el test de Kendall"
   ]
  },
  {
   "cell_type": "markdown",
   "metadata": {},
   "source": [
    "La correlación (o similitud) de Kendall (https://en.wikipedia.org/wiki/Kendall_rank_correlation_coefficient), también conocida como $\\tau$ (_tau_) de Kendall, mide el grado de parecido entre dos rankings. Es muy fácil de calcular una vez que tenemos implementada la función que cuenta el número de parejas concordantes y discordantes entre dos rankings. La fórmula es:\n",
    "\n",
    "$$\n",
    "\\tau = \\frac{número \\: de \\: parejas \\: concordantes \\; - número \\: de \\: parejas \\: discordantes}{n(n-1)/2}\n",
    "$$\n",
    "\n",
    "Donde $n$ es el número de elementos de ambos rankings. La métrica de similitud toma valores entre $-1$ y $1$, siendo $1$ el valor de similitud de dos rankings exactamente iguales, y $-1$ el valor de similitud de dos rankings en los que no hay ninguna pareja concordante.\n",
    "     \n"
   ]
  },
  {
   "cell_type": "code",
   "execution_count": null,
   "metadata": {
    "collapsed": true
   },
   "outputs": [],
   "source": [
    "def similitud_kendall(vpos1, vpos2):\n",
    "    ''' Calcula la similitud de Kendall de dos rankings\n",
    "\n",
    "    Toma como entrada dos vectores de posición (del mismo tamaño) calculados a\n",
    "    partir de sendos rankings.\n",
    "    Produce como salida la similitud de Kendall calculada a partir de las\n",
    "    parejas concordantes y discordantes entre ambos rankings.    \n",
    "    '''\n",
    "    pass"
   ]
  },
  {
   "cell_type": "code",
   "execution_count": null,
   "metadata": {},
   "outputs": [],
   "source": [
    "# Test de la función similitud_kendall\n",
    "#    Todas concordantes\n",
    "vector_pos1 = [10, 11, 12, 13]\n",
    "vector_pos2 = [18, 19, 20, 21]\n",
    "print(similitud_kendall(vector_pos1, vector_pos2))\n",
    "#    Todas discordantes\n",
    "vector_pos1 = [10, 11, 12, 13]\n",
    "vector_pos2 = [9, 8, 7, 6]\n",
    "print(similitud_kendall(vector_pos1, vector_pos2))\n",
    "#    Algunas concordantes y otras discordantes\n",
    "vector_pos1 = [10, 11, 12, 13]\n",
    "vector_pos2 = [13, 10, 11, 12]\n",
    "print(similitud_kendall(vector_pos1, vector_pos2))"
   ]
  },
  {
   "cell_type": "markdown",
   "metadata": {},
   "source": [
    "La distancia de Kendall (https://en.wikipedia.org/wiki/Kendall_tau_distance) es una métrica que mide el grado de diferencia entre dos rankings. También es muy fácil de calcular a partir de la función que cuenta el número de parejas discordantes entre dos rankings. La fórmula es:\n",
    "\n",
    "$$\n",
    "\\tau = \\frac{número \\: de \\: parejas \\: discordantes}{n(n-1)/2}\n",
    "$$\n",
    "\n",
    "Donde $n$ es el número de elementos de ambos rankings. La métrica de distancia toma valores entre $0$ y $1$, siendo $0$ la distancia entre dos rankings exactamente iguales, y $1$ la distancia entre dos rankings en los que no hay ninguna pareja concordante.\n",
    "     "
   ]
  },
  {
   "cell_type": "code",
   "execution_count": null,
   "metadata": {
    "collapsed": true
   },
   "outputs": [],
   "source": [
    "def distancia_kendall(vpos1, vpos2):\n",
    "    ''' Calcula la distancia de Kendall de dos rankings\n",
    "\n",
    "    Toma como entrada dos vectores de posición (del mismo tamaño) calculados a\n",
    "    partir de sendos rankings.\n",
    "    Produce como salida la distancia de Kendall calculada a partir de las\n",
    "    parejas discordantes entre ambos rankings.    \n",
    "    '''\n",
    "    pass"
   ]
  },
  {
   "cell_type": "code",
   "execution_count": null,
   "metadata": {},
   "outputs": [],
   "source": [
    "# Test de la función distancia_kendall\n",
    "#    Todas concordantes\n",
    "vector_pos1 = [10, 11, 12, 13]\n",
    "vector_pos2 = [18, 19, 20, 21]\n",
    "print(distancia_kendall(vector_pos1, vector_pos2))\n",
    "#    Todas discordantes\n",
    "vector_pos1 = [10, 11, 12, 13]\n",
    "vector_pos2 = [9, 8, 7, 6]\n",
    "print(distancia_kendall(vector_pos1, vector_pos2))\n",
    "#    Algunas concordantes y otras discordantes\n",
    "vector_pos1 = [10, 11, 12, 13]\n",
    "vector_pos2 = [13, 10, 11, 12]\n",
    "print(distancia_kendall(vector_pos1, vector_pos2))"
   ]
  },
  {
   "cell_type": "markdown",
   "metadata": {},
   "source": [
    "### 4.4 Evolución de rankings"
   ]
  },
  {
   "cell_type": "markdown",
   "metadata": {},
   "source": [
    "En esta última función aprovecharemos todo lo implementado en el resto de esta sección para determinar la evolución del ranking ATP a lo largo de los años. La idea es comparar el ranking de cada año con el anterior, y generar una gráfica que muestre lo _volátil_ que ha sido cada año. Se entenderá por _año volátil_ aquel en el que el ranking ha dado un vuelco importante y, por tanto, la distancia Kendall con el ranking del año anterior ha sido mayor:"
   ]
  },
  {
   "cell_type": "code",
   "execution_count": null,
   "metadata": {
    "collapsed": true
   },
   "outputs": [],
   "source": [
    "def evolucion_rankings(rankings, metrica=distancia_kendall):\n",
    "    ''' Calcula la evolución de los rankings durante varias temporadas\n",
    "\n",
    "    Toma como entrada un diccionario cuyas claves son temporadas y sus\n",
    "    valores rankings (lista de tuplas (jugador, puntos)), y una función para\n",
    "    calcular una métrica comparativa de dos rankings.\n",
    "    Produce como salida una gráfica en la que se muestre la métrica de cada\n",
    "    temporada con respecto a la anterior.\n",
    "    Seguiremos el siguiente procedimiento:\n",
    "        - Constuir una lista ordenada de temporadas a partir de las claves del\n",
    "          diccionario rankings.\n",
    "        - Calcular los nombres de los jugadores presentes en todos los\n",
    "          rankings. Estos nombres se usarán para determinar las posiciones de\n",
    "          los vectores de posiciones.\n",
    "        - Construir una lista de metricas resultado de aplicar la función\n",
    "          metrica a todas las parejas de temporadas consecutivas.\n",
    "    Una vez tengamos las listas de temporadas y metricas, podremos generar la\n",
    "    gráfica con las siguientes instrucciones:\n",
    "            plt.plot(metricas)\n",
    "            plt.xticks(range(len(metricas)), temporadas)\n",
    "            plt.show()\n",
    "    '''\n",
    "    pass"
   ]
  },
  {
   "cell_type": "code",
   "execution_count": null,
   "metadata": {},
   "outputs": [],
   "source": [
    "# Test de la función evolucion_rankings\n",
    "evolucion_rankings(rankings)"
   ]
  }
 ],
 "metadata": {
  "kernelspec": {
   "display_name": "Python 3",
   "language": "python",
   "name": "python3"
  },
  "language_info": {
   "codemirror_mode": {
    "name": "ipython",
    "version": 3
   },
   "file_extension": ".py",
   "mimetype": "text/x-python",
   "name": "python",
   "nbconvert_exporter": "python",
   "pygments_lexer": "ipython3",
   "version": "3.6.3"
  }
 },
 "nbformat": 4,
 "nbformat_minor": 2
}
